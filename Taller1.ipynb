{
  "nbformat": 4,
  "nbformat_minor": 0,
  "metadata": {
    "colab": {
      "provenance": []
    },
    "kernelspec": {
      "name": "python3",
      "display_name": "Python 3"
    },
    "language_info": {
      "name": "python"
    }
  },
  "cells": [
    {
      "cell_type": "markdown",
      "source": [
        "# Taller 1 Juan Pablo Leal Jaramillo"
      ],
      "metadata": {
        "id": "4w4kP4-nfi7F"
      }
    },
    {
      "cell_type": "code",
      "source": [
        "import pandas as pd\n",
        "import numpy as np\n",
        "import matplotlib.pyplot as plt\n",
        "from numpy.linalg import inv\n",
        "from numpy.linalg import eig\n",
        "from sklearn.decomposition import PCA\n",
        "from sklearn.preprocessing import StandardScaler\n",
        "import statsmodels.formula.api as smf\n",
        "from scipy.stats import t\n",
        "import statsmodels.api as sm"
      ],
      "metadata": {
        "id": "AQPQWFVTUHFV"
      },
      "execution_count": null,
      "outputs": []
    },
    {
      "cell_type": "markdown",
      "source": [
        "# Punto 1"
      ],
      "metadata": {
        "id": "GmdDIWTEUE-d"
      }
    },
    {
      "cell_type": "markdown",
      "source": [
        "### 1.A"
      ],
      "metadata": {
        "id": "ZCqTT92ub7fE"
      }
    },
    {
      "cell_type": "code",
      "source": [
        "x = [-2, -1, 0, 1, 2]\n",
        "y = [0, 0, 1, 1, 3]"
      ],
      "metadata": {
        "id": "A87eDgyAUfon"
      },
      "execution_count": null,
      "outputs": []
    },
    {
      "cell_type": "code",
      "source": [
        "df_p1 = pd.DataFrame({'x': x, 'y': y})"
      ],
      "metadata": {
        "id": "wA9lqagVUlD7"
      },
      "execution_count": null,
      "outputs": []
    },
    {
      "cell_type": "code",
      "source": [
        "regression_model = smf.ols('y~x' , df_p1)\n",
        "results = regression_model.fit()\n",
        "print(results.summary())"
      ],
      "metadata": {
        "colab": {
          "base_uri": "https://localhost:8080/"
        },
        "id": "8JeJqj3RUrfm",
        "outputId": "748716e2-cdec-4485-e1e8-080289d4273a"
      },
      "execution_count": null,
      "outputs": [
        {
          "output_type": "stream",
          "name": "stdout",
          "text": [
            "                            OLS Regression Results                            \n",
            "==============================================================================\n",
            "Dep. Variable:                      y   R-squared:                       0.817\n",
            "Model:                            OLS   Adj. R-squared:                  0.756\n",
            "Method:                 Least Squares   F-statistic:                     13.36\n",
            "Date:                Sat, 07 May 2022   Prob (F-statistic):             0.0354\n",
            "Time:                        16:22:19   Log-Likelihood:                -3.3094\n",
            "No. Observations:                   5   AIC:                             10.62\n",
            "Df Residuals:                       3   BIC:                             9.838\n",
            "Df Model:                           1                                         \n",
            "Covariance Type:            nonrobust                                         \n",
            "==============================================================================\n",
            "                 coef    std err          t      P>|t|      [0.025      0.975]\n",
            "------------------------------------------------------------------------------\n",
            "Intercept      1.0000      0.271      3.693      0.034       0.138       1.862\n",
            "x              0.7000      0.191      3.656      0.035       0.091       1.309\n",
            "==============================================================================\n",
            "Omnibus:                          nan   Durbin-Watson:                   2.509\n",
            "Prob(Omnibus):                    nan   Jarque-Bera (JB):                0.396\n",
            "Skew:                          -0.174   Prob(JB):                        0.821\n",
            "Kurtosis:                       1.667   Cond. No.                         1.41\n",
            "==============================================================================\n",
            "\n",
            "Warnings:\n",
            "[1] Standard Errors assume that the covariance matrix of the errors is correctly specified.\n"
          ]
        },
        {
          "output_type": "stream",
          "name": "stderr",
          "text": [
            "/usr/local/lib/python3.7/dist-packages/statsmodels/stats/stattools.py:71: ValueWarning: omni_normtest is not valid with less than 8 observations; 5 samples were given.\n",
            "  \"samples were given.\" % int(n), ValueWarning)\n"
          ]
        }
      ]
    },
    {
      "cell_type": "markdown",
      "source": [
        "El modelo resultante fue este:\n",
        "$y = 1 + 0.7x$"
      ],
      "metadata": {
        "id": "4Hbd6HOzVh7H"
      }
    },
    {
      "cell_type": "markdown",
      "source": [
        "Segun los resultados del modelo seria:\n",
        "$y = 1 + 0.7(1)$\n",
        "\n",
        "$y = 1 + 0.7$\n",
        "\n",
        "El valor esperado de y cuando x=1 sería:\n",
        "\n",
        "$y = 1.7$"
      ],
      "metadata": {
        "id": "b6DWBGYSVv1-"
      }
    },
    {
      "cell_type": "markdown",
      "source": [
        "### 1.B"
      ],
      "metadata": {
        "id": "0U5JKCo2cAB-"
      }
    },
    {
      "cell_type": "code",
      "source": [
        "df_p1['Ones'] = 1\n",
        "y_1 = df_p1['y']\n",
        "x_1 = np.array(df_p1[['Ones','x']])"
      ],
      "metadata": {
        "id": "dA1rCnhRWMXN"
      },
      "execution_count": null,
      "outputs": []
    },
    {
      "cell_type": "code",
      "source": [
        "bethas = inv(x_1.T @ x_1) @ (x_1.T @ y_1)\n",
        "bethas"
      ],
      "metadata": {
        "colab": {
          "base_uri": "https://localhost:8080/"
        },
        "id": "zQEHggPnWghN",
        "outputId": "5e666334-83a4-4c38-c471-4de069ed989b"
      },
      "execution_count": null,
      "outputs": [
        {
          "output_type": "execute_result",
          "data": {
            "text/plain": [
              "array([1. , 0.7])"
            ]
          },
          "metadata": {},
          "execution_count": 79
        }
      ]
    },
    {
      "cell_type": "code",
      "source": [
        "SSE = y_1.T @ y_1 - bethas.T @ x_1.T @ y_1"
      ],
      "metadata": {
        "id": "utvDL864WwLE"
      },
      "execution_count": null,
      "outputs": []
    },
    {
      "cell_type": "code",
      "source": [
        "n = len(y_1)\n",
        "S2 = SSE/(n-2)"
      ],
      "metadata": {
        "id": "QQEyO6yYWpMa"
      },
      "execution_count": null,
      "outputs": []
    },
    {
      "cell_type": "code",
      "source": [
        "w = np.array([1, 2])\n",
        "y_pred_min = w @ bethas - t.ppf(0.975 , df = 25) * np.sqrt(S2) * np.sqrt(1 + w.T @ inv(x_1.T @ x_1) @ w)\n",
        "y_pred_max = w @ bethas + t.ppf(0.975 , df = 25) * np.sqrt(S2) * np.sqrt(1 + w.T @ inv(x_1.T @ x_1) @ w)"
      ],
      "metadata": {
        "id": "UDrqw6ShW_pO"
      },
      "execution_count": null,
      "outputs": []
    },
    {
      "cell_type": "code",
      "source": [
        "y_pred_min.round(2)"
      ],
      "metadata": {
        "colab": {
          "base_uri": "https://localhost:8080/"
        },
        "id": "2kUgFcOZXTN2",
        "outputId": "052d506f-85c0-4504-c664-a52b3f86a5c0"
      },
      "execution_count": null,
      "outputs": [
        {
          "output_type": "execute_result",
          "data": {
            "text/plain": [
              "0.82"
            ]
          },
          "metadata": {},
          "execution_count": 87
        }
      ]
    },
    {
      "cell_type": "code",
      "source": [
        "y_pred_max.round(2)"
      ],
      "metadata": {
        "colab": {
          "base_uri": "https://localhost:8080/"
        },
        "id": "-x3AeiZuXVaP",
        "outputId": "b7c3f596-3c36-4939-c48c-77c68653eba6"
      },
      "execution_count": null,
      "outputs": [
        {
          "output_type": "execute_result",
          "data": {
            "text/plain": [
              "3.98"
            ]
          },
          "metadata": {},
          "execution_count": 88
        }
      ]
    },
    {
      "cell_type": "markdown",
      "source": [
        "El intervalo sería entre: \n",
        "\n",
        "$[0.82;3.98]$"
      ],
      "metadata": {
        "id": "ErGc4ocOY-dy"
      }
    },
    {
      "cell_type": "markdown",
      "source": [
        "### 1.C"
      ],
      "metadata": {
        "id": "7ByZjIKVcC0X"
      }
    },
    {
      "cell_type": "code",
      "source": [
        "t.ppf(0.975 , df=25)"
      ],
      "metadata": {
        "colab": {
          "base_uri": "https://localhost:8080/"
        },
        "id": "njgSRZDuZK7H",
        "outputId": "01c674cf-bc89-4efc-ecbd-70dcbe4154df"
      },
      "execution_count": null,
      "outputs": [
        {
          "output_type": "execute_result",
          "data": {
            "text/plain": [
              "2.059538552753294"
            ]
          },
          "metadata": {},
          "execution_count": 90
        }
      ]
    },
    {
      "cell_type": "code",
      "source": [
        "t.ppf(0.025 , df=25)"
      ],
      "metadata": {
        "colab": {
          "base_uri": "https://localhost:8080/"
        },
        "id": "XnApSHSHZR1y",
        "outputId": "938467e4-2140-4e21-f5ea-2390181e8e3c"
      },
      "execution_count": null,
      "outputs": [
        {
          "output_type": "execute_result",
          "data": {
            "text/plain": [
              "-2.0595385527532946"
            ]
          },
          "metadata": {},
          "execution_count": 91
        }
      ]
    },
    {
      "cell_type": "markdown",
      "source": [
        "Los datos no presentarían evidencia suficiente para realizar el modelo ya que dan valores muy malos por fuera del intervalo de confianza"
      ],
      "metadata": {
        "id": "OzsiCuWoZcxw"
      }
    },
    {
      "cell_type": "markdown",
      "source": [
        "# Punto 2"
      ],
      "metadata": {
        "id": "8NZffPZrHkX7"
      }
    },
    {
      "cell_type": "code",
      "source": [
        "df_p2 = pd.read_csv('paises.csv')\n",
        "df_p2.describe()"
      ],
      "metadata": {
        "colab": {
          "base_uri": "https://localhost:8080/",
          "height": 300
        },
        "id": "pzhMhj6ZHYtN",
        "outputId": "9a1784f3-3f14-4279-a888-86d1e82a3569"
      },
      "execution_count": null,
      "outputs": [
        {
          "output_type": "execute_result",
          "data": {
            "text/plain": [
              "              X1          X2         X3            X4             X5  \\\n",
              "count  96.000000   96.000000  96.000000  9.600000e+01      96.000000   \n",
              "mean    1.870833   39.062500  37.281250  1.165874e+05   69261.322917   \n",
              "std     1.240282   32.138127   8.774008  2.236020e+05  134978.103153   \n",
              "min    -0.600000    4.000000  13.000000  1.353000e+03       6.000000   \n",
              "25%     0.875000   11.000000  31.000000  8.014250e+03    4675.750000   \n",
              "50%     2.000000   32.500000  39.000000  2.924300e+04   21422.000000   \n",
              "75%     2.725000   56.500000  44.000000  1.092218e+05   65783.500000   \n",
              "max     5.800000  124.000000  51.000000  1.451051e+06  928083.000000   \n",
              "\n",
              "               X6           X7         X8         X9           X10        X11  \n",
              "count   96.000000    96.000000  96.000000  96.000000     96.000000  96.000000  \n",
              "mean   165.125000   509.843750  27.333333   0.553125   1854.427083   4.554167  \n",
              "std    195.990991   574.628637  20.025072   1.348055   2239.284513   5.221936  \n",
              "min      2.000000     7.000000   0.000000  -4.300000     20.000000   0.100000  \n",
              "25%     15.500000   178.500000  10.000000  -0.025000    287.750000   0.700000  \n",
              "50%     74.000000   381.500000  25.500000   0.150000    914.500000   2.600000  \n",
              "75%    231.500000   662.000000  42.250000   1.200000   2553.500000   7.050000  \n",
              "max    681.000000  4575.000000  77.000000   5.100000  10531.000000  33.900000  "
            ],
            "text/html": [
              "\n",
              "  <div id=\"df-b31d8eb0-476f-4dc7-a347-05aac565cf5a\">\n",
              "    <div class=\"colab-df-container\">\n",
              "      <div>\n",
              "<style scoped>\n",
              "    .dataframe tbody tr th:only-of-type {\n",
              "        vertical-align: middle;\n",
              "    }\n",
              "\n",
              "    .dataframe tbody tr th {\n",
              "        vertical-align: top;\n",
              "    }\n",
              "\n",
              "    .dataframe thead th {\n",
              "        text-align: right;\n",
              "    }\n",
              "</style>\n",
              "<table border=\"1\" class=\"dataframe\">\n",
              "  <thead>\n",
              "    <tr style=\"text-align: right;\">\n",
              "      <th></th>\n",
              "      <th>X1</th>\n",
              "      <th>X2</th>\n",
              "      <th>X3</th>\n",
              "      <th>X4</th>\n",
              "      <th>X5</th>\n",
              "      <th>X6</th>\n",
              "      <th>X7</th>\n",
              "      <th>X8</th>\n",
              "      <th>X9</th>\n",
              "      <th>X10</th>\n",
              "      <th>X11</th>\n",
              "    </tr>\n",
              "  </thead>\n",
              "  <tbody>\n",
              "    <tr>\n",
              "      <th>count</th>\n",
              "      <td>96.000000</td>\n",
              "      <td>96.000000</td>\n",
              "      <td>96.000000</td>\n",
              "      <td>9.600000e+01</td>\n",
              "      <td>96.000000</td>\n",
              "      <td>96.000000</td>\n",
              "      <td>96.000000</td>\n",
              "      <td>96.000000</td>\n",
              "      <td>96.000000</td>\n",
              "      <td>96.000000</td>\n",
              "      <td>96.000000</td>\n",
              "    </tr>\n",
              "    <tr>\n",
              "      <th>mean</th>\n",
              "      <td>1.870833</td>\n",
              "      <td>39.062500</td>\n",
              "      <td>37.281250</td>\n",
              "      <td>1.165874e+05</td>\n",
              "      <td>69261.322917</td>\n",
              "      <td>165.125000</td>\n",
              "      <td>509.843750</td>\n",
              "      <td>27.333333</td>\n",
              "      <td>0.553125</td>\n",
              "      <td>1854.427083</td>\n",
              "      <td>4.554167</td>\n",
              "    </tr>\n",
              "    <tr>\n",
              "      <th>std</th>\n",
              "      <td>1.240282</td>\n",
              "      <td>32.138127</td>\n",
              "      <td>8.774008</td>\n",
              "      <td>2.236020e+05</td>\n",
              "      <td>134978.103153</td>\n",
              "      <td>195.990991</td>\n",
              "      <td>574.628637</td>\n",
              "      <td>20.025072</td>\n",
              "      <td>1.348055</td>\n",
              "      <td>2239.284513</td>\n",
              "      <td>5.221936</td>\n",
              "    </tr>\n",
              "    <tr>\n",
              "      <th>min</th>\n",
              "      <td>-0.600000</td>\n",
              "      <td>4.000000</td>\n",
              "      <td>13.000000</td>\n",
              "      <td>1.353000e+03</td>\n",
              "      <td>6.000000</td>\n",
              "      <td>2.000000</td>\n",
              "      <td>7.000000</td>\n",
              "      <td>0.000000</td>\n",
              "      <td>-4.300000</td>\n",
              "      <td>20.000000</td>\n",
              "      <td>0.100000</td>\n",
              "    </tr>\n",
              "    <tr>\n",
              "      <th>25%</th>\n",
              "      <td>0.875000</td>\n",
              "      <td>11.000000</td>\n",
              "      <td>31.000000</td>\n",
              "      <td>8.014250e+03</td>\n",
              "      <td>4675.750000</td>\n",
              "      <td>15.500000</td>\n",
              "      <td>178.500000</td>\n",
              "      <td>10.000000</td>\n",
              "      <td>-0.025000</td>\n",
              "      <td>287.750000</td>\n",
              "      <td>0.700000</td>\n",
              "    </tr>\n",
              "    <tr>\n",
              "      <th>50%</th>\n",
              "      <td>2.000000</td>\n",
              "      <td>32.500000</td>\n",
              "      <td>39.000000</td>\n",
              "      <td>2.924300e+04</td>\n",
              "      <td>21422.000000</td>\n",
              "      <td>74.000000</td>\n",
              "      <td>381.500000</td>\n",
              "      <td>25.500000</td>\n",
              "      <td>0.150000</td>\n",
              "      <td>914.500000</td>\n",
              "      <td>2.600000</td>\n",
              "    </tr>\n",
              "    <tr>\n",
              "      <th>75%</th>\n",
              "      <td>2.725000</td>\n",
              "      <td>56.500000</td>\n",
              "      <td>44.000000</td>\n",
              "      <td>1.092218e+05</td>\n",
              "      <td>65783.500000</td>\n",
              "      <td>231.500000</td>\n",
              "      <td>662.000000</td>\n",
              "      <td>42.250000</td>\n",
              "      <td>1.200000</td>\n",
              "      <td>2553.500000</td>\n",
              "      <td>7.050000</td>\n",
              "    </tr>\n",
              "    <tr>\n",
              "      <th>max</th>\n",
              "      <td>5.800000</td>\n",
              "      <td>124.000000</td>\n",
              "      <td>51.000000</td>\n",
              "      <td>1.451051e+06</td>\n",
              "      <td>928083.000000</td>\n",
              "      <td>681.000000</td>\n",
              "      <td>4575.000000</td>\n",
              "      <td>77.000000</td>\n",
              "      <td>5.100000</td>\n",
              "      <td>10531.000000</td>\n",
              "      <td>33.900000</td>\n",
              "    </tr>\n",
              "  </tbody>\n",
              "</table>\n",
              "</div>\n",
              "      <button class=\"colab-df-convert\" onclick=\"convertToInteractive('df-b31d8eb0-476f-4dc7-a347-05aac565cf5a')\"\n",
              "              title=\"Convert this dataframe to an interactive table.\"\n",
              "              style=\"display:none;\">\n",
              "        \n",
              "  <svg xmlns=\"http://www.w3.org/2000/svg\" height=\"24px\"viewBox=\"0 0 24 24\"\n",
              "       width=\"24px\">\n",
              "    <path d=\"M0 0h24v24H0V0z\" fill=\"none\"/>\n",
              "    <path d=\"M18.56 5.44l.94 2.06.94-2.06 2.06-.94-2.06-.94-.94-2.06-.94 2.06-2.06.94zm-11 1L8.5 8.5l.94-2.06 2.06-.94-2.06-.94L8.5 2.5l-.94 2.06-2.06.94zm10 10l.94 2.06.94-2.06 2.06-.94-2.06-.94-.94-2.06-.94 2.06-2.06.94z\"/><path d=\"M17.41 7.96l-1.37-1.37c-.4-.4-.92-.59-1.43-.59-.52 0-1.04.2-1.43.59L10.3 9.45l-7.72 7.72c-.78.78-.78 2.05 0 2.83L4 21.41c.39.39.9.59 1.41.59.51 0 1.02-.2 1.41-.59l7.78-7.78 2.81-2.81c.8-.78.8-2.07 0-2.86zM5.41 20L4 18.59l7.72-7.72 1.47 1.35L5.41 20z\"/>\n",
              "  </svg>\n",
              "      </button>\n",
              "      \n",
              "  <style>\n",
              "    .colab-df-container {\n",
              "      display:flex;\n",
              "      flex-wrap:wrap;\n",
              "      gap: 12px;\n",
              "    }\n",
              "\n",
              "    .colab-df-convert {\n",
              "      background-color: #E8F0FE;\n",
              "      border: none;\n",
              "      border-radius: 50%;\n",
              "      cursor: pointer;\n",
              "      display: none;\n",
              "      fill: #1967D2;\n",
              "      height: 32px;\n",
              "      padding: 0 0 0 0;\n",
              "      width: 32px;\n",
              "    }\n",
              "\n",
              "    .colab-df-convert:hover {\n",
              "      background-color: #E2EBFA;\n",
              "      box-shadow: 0px 1px 2px rgba(60, 64, 67, 0.3), 0px 1px 3px 1px rgba(60, 64, 67, 0.15);\n",
              "      fill: #174EA6;\n",
              "    }\n",
              "\n",
              "    [theme=dark] .colab-df-convert {\n",
              "      background-color: #3B4455;\n",
              "      fill: #D2E3FC;\n",
              "    }\n",
              "\n",
              "    [theme=dark] .colab-df-convert:hover {\n",
              "      background-color: #434B5C;\n",
              "      box-shadow: 0px 1px 3px 1px rgba(0, 0, 0, 0.15);\n",
              "      filter: drop-shadow(0px 1px 2px rgba(0, 0, 0, 0.3));\n",
              "      fill: #FFFFFF;\n",
              "    }\n",
              "  </style>\n",
              "\n",
              "      <script>\n",
              "        const buttonEl =\n",
              "          document.querySelector('#df-b31d8eb0-476f-4dc7-a347-05aac565cf5a button.colab-df-convert');\n",
              "        buttonEl.style.display =\n",
              "          google.colab.kernel.accessAllowed ? 'block' : 'none';\n",
              "\n",
              "        async function convertToInteractive(key) {\n",
              "          const element = document.querySelector('#df-b31d8eb0-476f-4dc7-a347-05aac565cf5a');\n",
              "          const dataTable =\n",
              "            await google.colab.kernel.invokeFunction('convertToInteractive',\n",
              "                                                     [key], {});\n",
              "          if (!dataTable) return;\n",
              "\n",
              "          const docLinkHtml = 'Like what you see? Visit the ' +\n",
              "            '<a target=\"_blank\" href=https://colab.research.google.com/notebooks/data_table.ipynb>data table notebook</a>'\n",
              "            + ' to learn more about interactive tables.';\n",
              "          element.innerHTML = '';\n",
              "          dataTable['output_type'] = 'display_data';\n",
              "          await google.colab.output.renderOutput(dataTable, element);\n",
              "          const docLink = document.createElement('div');\n",
              "          docLink.innerHTML = docLinkHtml;\n",
              "          element.appendChild(docLink);\n",
              "        }\n",
              "      </script>\n",
              "    </div>\n",
              "  </div>\n",
              "  "
            ]
          },
          "metadata": {},
          "execution_count": 55
        }
      ]
    },
    {
      "cell_type": "markdown",
      "source": [
        "### 2.A"
      ],
      "metadata": {
        "id": "_8QS0SN6cHbR"
      }
    },
    {
      "cell_type": "code",
      "source": [
        "S = df_p2.cov().round(2)\n",
        "S_inv = inv(S)"
      ],
      "metadata": {
        "id": "JYq187_IZ9KA"
      },
      "execution_count": null,
      "outputs": []
    },
    {
      "cell_type": "code",
      "source": [
        "R2 = 1 - 1/(np.diag(S) * np.diag(S_inv))\n",
        "R2"
      ],
      "metadata": {
        "colab": {
          "base_uri": "https://localhost:8080/"
        },
        "id": "kBBI-xxqaEyj",
        "outputId": "b2a1c8a6-a973-4f3f-9306-cd2a10794935"
      },
      "execution_count": null,
      "outputs": [
        {
          "output_type": "execute_result",
          "data": {
            "text/plain": [
              "array([0.68319185, 0.67900184, 0.6404013 , 0.66576898, 0.63058522,\n",
              "       0.81739869, 0.29816882, 0.18727591, 0.21643866, 0.87287136,\n",
              "       0.80968246])"
            ]
          },
          "metadata": {},
          "execution_count": 95
        }
      ]
    },
    {
      "cell_type": "markdown",
      "source": [
        "La variable que mejor se explica mediante las demás es la penúltima de ese arreglo de R2 que corresponde a X10"
      ],
      "metadata": {
        "id": "ESpkMx49aRGh"
      }
    },
    {
      "cell_type": "code",
      "source": [
        "X = df_p2.iloc[:,1:].values"
      ],
      "metadata": {
        "id": "Sx6HNKDrKFtK"
      },
      "execution_count": null,
      "outputs": []
    },
    {
      "cell_type": "code",
      "source": [
        "X.mean(axis=0)"
      ],
      "metadata": {
        "colab": {
          "base_uri": "https://localhost:8080/"
        },
        "id": "jDAGGyJCKjA4",
        "outputId": "1f86bf61-2e38-49c3-ea3b-6c2900a7f4f5"
      },
      "execution_count": null,
      "outputs": [
        {
          "output_type": "execute_result",
          "data": {
            "text/plain": [
              "array([3.90625000e+01, 3.72812500e+01, 1.16587417e+05, 6.92613229e+04,\n",
              "       1.65125000e+02, 5.09843750e+02, 2.73333333e+01, 5.53125000e-01,\n",
              "       1.85442708e+03, 4.55416667e+00])"
            ]
          },
          "metadata": {},
          "execution_count": 20
        }
      ]
    },
    {
      "cell_type": "code",
      "source": [
        "X.std(axis=0)"
      ],
      "metadata": {
        "colab": {
          "base_uri": "https://localhost:8080/"
        },
        "id": "kbupuLLzKnji",
        "outputId": "0bc418d2-6de0-4553-d918-5cdf6e3ae94f"
      },
      "execution_count": null,
      "outputs": [
        {
          "output_type": "execute_result",
          "data": {
            "text/plain": [
              "array([3.19703028e+01, 8.72819083e+00, 2.22434375e+05, 1.34273252e+05,\n",
              "       1.94967532e+02, 5.71627944e+02, 1.99205017e+01, 1.34101587e+00,\n",
              "       2.22759104e+03, 5.19466707e+00])"
            ]
          },
          "metadata": {},
          "execution_count": 21
        }
      ]
    },
    {
      "cell_type": "code",
      "source": [
        "X_standarized = StandardScaler().fit_transform(X)"
      ],
      "metadata": {
        "id": "GQ1a08DtKtPE"
      },
      "execution_count": null,
      "outputs": []
    },
    {
      "cell_type": "code",
      "source": [
        "s_cov = np.cov(X_standarized.T)"
      ],
      "metadata": {
        "id": "A6ofUmFlLGk5"
      },
      "execution_count": null,
      "outputs": []
    },
    {
      "cell_type": "code",
      "source": [
        "vals, vectors = eig(s_cov)"
      ],
      "metadata": {
        "id": "KjH5OAbBLPl0"
      },
      "execution_count": null,
      "outputs": []
    },
    {
      "cell_type": "code",
      "source": [
        "Z1 = vectors[:,0]\n",
        "Z2 = vectors[:,1]\n",
        "Z2"
      ],
      "metadata": {
        "colab": {
          "base_uri": "https://localhost:8080/"
        },
        "id": "sjr5VT1LMsCq",
        "outputId": "41b11576-6f97-4f28-bfe5-819997c2f035"
      },
      "execution_count": null,
      "outputs": [
        {
          "output_type": "execute_result",
          "data": {
            "text/plain": [
              "array([ 0.01507277,  0.58711939,  0.30952442,  0.29505797,  0.09273751,\n",
              "       -0.35500087,  0.50499199,  0.11578101, -0.15734884, -0.21069501])"
            ]
          },
          "metadata": {},
          "execution_count": 44
        }
      ]
    },
    {
      "cell_type": "code",
      "source": [
        "proy_Z1 = X_standarized @ Z1\n",
        "proy_Z2 = X_standarized @ Z2"
      ],
      "metadata": {
        "id": "BnHTnn0_NMrR"
      },
      "execution_count": null,
      "outputs": []
    },
    {
      "cell_type": "markdown",
      "source": [
        "### 2.B"
      ],
      "metadata": {
        "id": "Eb3xnb7ccM4E"
      }
    },
    {
      "cell_type": "code",
      "source": [
        "proy_Z1[12].round(2)"
      ],
      "metadata": {
        "colab": {
          "base_uri": "https://localhost:8080/"
        },
        "id": "QpY-mdPCan9d",
        "outputId": "9cf36cf1-7f54-4811-db8c-6ff3da034644"
      },
      "execution_count": null,
      "outputs": [
        {
          "output_type": "execute_result",
          "data": {
            "text/plain": [
              "0.12"
            ]
          },
          "metadata": {},
          "execution_count": 97
        }
      ]
    },
    {
      "cell_type": "code",
      "source": [
        "proy_Z2[12].round(2)"
      ],
      "metadata": {
        "colab": {
          "base_uri": "https://localhost:8080/"
        },
        "id": "ctH6gPPJasKG",
        "outputId": "62d9bf08-47d6-403e-8931-176c6ec8bedd"
      },
      "execution_count": null,
      "outputs": [
        {
          "output_type": "execute_result",
          "data": {
            "text/plain": [
              "2.23"
            ]
          },
          "metadata": {},
          "execution_count": 98
        }
      ]
    },
    {
      "cell_type": "markdown",
      "source": [
        "Las coordenadas de $x^{(13)}$ en el plano $Z_{1}$ y $Z_{2}$ son: \n",
        "\n",
        "$(0.12,2.23)$"
      ],
      "metadata": {
        "id": "Gc81wXHkavDP"
      }
    },
    {
      "cell_type": "markdown",
      "source": [
        "### 2.C"
      ],
      "metadata": {
        "id": "rI4ppXmCcQQv"
      }
    },
    {
      "cell_type": "code",
      "source": [
        "Z2"
      ],
      "metadata": {
        "colab": {
          "base_uri": "https://localhost:8080/"
        },
        "id": "IJRv42VnbRvw",
        "outputId": "ad25ecde-ea46-4538-dbad-abedac45898d"
      },
      "execution_count": null,
      "outputs": [
        {
          "output_type": "execute_result",
          "data": {
            "text/plain": [
              "array([ 0.01507277,  0.58711939,  0.30952442,  0.29505797,  0.09273751,\n",
              "       -0.35500087,  0.50499199,  0.11578101, -0.15734884, -0.21069501])"
            ]
          },
          "metadata": {},
          "execution_count": 128
        }
      ]
    },
    {
      "cell_type": "markdown",
      "source": [
        "R/ La variable que esta en la posicion 1, es decir X2, es la que más aporta en la componente principal de $Z_{2}$"
      ],
      "metadata": {
        "id": "UdDUCJ9cbqnF"
      }
    },
    {
      "cell_type": "markdown",
      "source": [
        "### 2.D"
      ],
      "metadata": {
        "id": "e2Vp8YklcTUX"
      }
    },
    {
      "cell_type": "code",
      "source": [
        "plt.plot(proy_Z1, proy_Z2, 'o')"
      ],
      "metadata": {
        "colab": {
          "base_uri": "https://localhost:8080/",
          "height": 282
        },
        "id": "LJPi6aJgNb1L",
        "outputId": "a4e6a886-c7f6-437f-97dd-6c34dda8a020"
      },
      "execution_count": null,
      "outputs": [
        {
          "output_type": "execute_result",
          "data": {
            "text/plain": [
              "[<matplotlib.lines.Line2D at 0x7f7fd6a7a690>]"
            ]
          },
          "metadata": {},
          "execution_count": 34
        },
        {
          "output_type": "display_data",
          "data": {
            "text/plain": [
              "<Figure size 432x288 with 1 Axes>"
            ],
            "image/png": "[encoded data removed]"
          },
          "metadata": {
            "needs_background": "light"
          }
        }
      ]
    },
    {
      "cell_type": "markdown",
      "source": [
        "Se logra identificar la presencia de los outliers en la grafica"
      ],
      "metadata": {
        "id": "I8baA-jpOERY"
      }
    },
    {
      "cell_type": "markdown",
      "source": [
        "# Punto 3"
      ],
      "metadata": {
        "id": "DAeWZZvWb0Sp"
      }
    },
    {
      "cell_type": "markdown",
      "source": [
        "### 3.B"
      ],
      "metadata": {
        "id": "yQgOYOIueiXD"
      }
    },
    {
      "cell_type": "code",
      "source": [
        "X1_3 = [-2, -1, 0, 1, 2]\n",
        "X2_3 = [0, 0, 1, 1, 3]\n",
        "Y_3 = [0, 1, 1, 0, 1]"
      ],
      "metadata": {
        "id": "1YMxjrDhbzeo"
      },
      "execution_count": null,
      "outputs": []
    },
    {
      "cell_type": "code",
      "source": [
        "df_p3 = pd.DataFrame({'x1': X1_3, 'x2': X2_3, 'y': Y_3})\n",
        "df_p3"
      ],
      "metadata": {
        "colab": {
          "base_uri": "https://localhost:8080/",
          "height": 206
        },
        "id": "FQIB-esccr9T",
        "outputId": "d6013288-12e7-4bb4-e36c-0d7a70eb7c58"
      },
      "execution_count": null,
      "outputs": [
        {
          "output_type": "execute_result",
          "data": {
            "text/plain": [
              "   x1  x2  y\n",
              "0  -2   0  0\n",
              "1  -1   0  1\n",
              "2   0   1  1\n",
              "3   1   1  0\n",
              "4   2   3  1"
            ],
            "text/html": [
              "\n",
              "  <div id=\"df-695c62c7-3e52-48d2-9be2-e2c90b2ef325\">\n",
              "    <div class=\"colab-df-container\">\n",
              "      <div>\n",
              "<style scoped>\n",
              "    .dataframe tbody tr th:only-of-type {\n",
              "        vertical-align: middle;\n",
              "    }\n",
              "\n",
              "    .dataframe tbody tr th {\n",
              "        vertical-align: top;\n",
              "    }\n",
              "\n",
              "    .dataframe thead th {\n",
              "        text-align: right;\n",
              "    }\n",
              "</style>\n",
              "<table border=\"1\" class=\"dataframe\">\n",
              "  <thead>\n",
              "    <tr style=\"text-align: right;\">\n",
              "      <th></th>\n",
              "      <th>x1</th>\n",
              "      <th>x2</th>\n",
              "      <th>y</th>\n",
              "    </tr>\n",
              "  </thead>\n",
              "  <tbody>\n",
              "    <tr>\n",
              "      <th>0</th>\n",
              "      <td>-2</td>\n",
              "      <td>0</td>\n",
              "      <td>0</td>\n",
              "    </tr>\n",
              "    <tr>\n",
              "      <th>1</th>\n",
              "      <td>-1</td>\n",
              "      <td>0</td>\n",
              "      <td>1</td>\n",
              "    </tr>\n",
              "    <tr>\n",
              "      <th>2</th>\n",
              "      <td>0</td>\n",
              "      <td>1</td>\n",
              "      <td>1</td>\n",
              "    </tr>\n",
              "    <tr>\n",
              "      <th>3</th>\n",
              "      <td>1</td>\n",
              "      <td>1</td>\n",
              "      <td>0</td>\n",
              "    </tr>\n",
              "    <tr>\n",
              "      <th>4</th>\n",
              "      <td>2</td>\n",
              "      <td>3</td>\n",
              "      <td>1</td>\n",
              "    </tr>\n",
              "  </tbody>\n",
              "</table>\n",
              "</div>\n",
              "      <button class=\"colab-df-convert\" onclick=\"convertToInteractive('df-695c62c7-3e52-48d2-9be2-e2c90b2ef325')\"\n",
              "              title=\"Convert this dataframe to an interactive table.\"\n",
              "              style=\"display:none;\">\n",
              "        \n",
              "  <svg xmlns=\"http://www.w3.org/2000/svg\" height=\"24px\"viewBox=\"0 0 24 24\"\n",
              "       width=\"24px\">\n",
              "    <path d=\"M0 0h24v24H0V0z\" fill=\"none\"/>\n",
              "    <path d=\"M18.56 5.44l.94 2.06.94-2.06 2.06-.94-2.06-.94-.94-2.06-.94 2.06-2.06.94zm-11 1L8.5 8.5l.94-2.06 2.06-.94-2.06-.94L8.5 2.5l-.94 2.06-2.06.94zm10 10l.94 2.06.94-2.06 2.06-.94-2.06-.94-.94-2.06-.94 2.06-2.06.94z\"/><path d=\"M17.41 7.96l-1.37-1.37c-.4-.4-.92-.59-1.43-.59-.52 0-1.04.2-1.43.59L10.3 9.45l-7.72 7.72c-.78.78-.78 2.05 0 2.83L4 21.41c.39.39.9.59 1.41.59.51 0 1.02-.2 1.41-.59l7.78-7.78 2.81-2.81c.8-.78.8-2.07 0-2.86zM5.41 20L4 18.59l7.72-7.72 1.47 1.35L5.41 20z\"/>\n",
              "  </svg>\n",
              "      </button>\n",
              "      \n",
              "  <style>\n",
              "    .colab-df-container {\n",
              "      display:flex;\n",
              "      flex-wrap:wrap;\n",
              "      gap: 12px;\n",
              "    }\n",
              "\n",
              "    .colab-df-convert {\n",
              "      background-color: #E8F0FE;\n",
              "      border: none;\n",
              "      border-radius: 50%;\n",
              "      cursor: pointer;\n",
              "      display: none;\n",
              "      fill: #1967D2;\n",
              "      height: 32px;\n",
              "      padding: 0 0 0 0;\n",
              "      width: 32px;\n",
              "    }\n",
              "\n",
              "    .colab-df-convert:hover {\n",
              "      background-color: #E2EBFA;\n",
              "      box-shadow: 0px 1px 2px rgba(60, 64, 67, 0.3), 0px 1px 3px 1px rgba(60, 64, 67, 0.15);\n",
              "      fill: #174EA6;\n",
              "    }\n",
              "\n",
              "    [theme=dark] .colab-df-convert {\n",
              "      background-color: #3B4455;\n",
              "      fill: #D2E3FC;\n",
              "    }\n",
              "\n",
              "    [theme=dark] .colab-df-convert:hover {\n",
              "      background-color: #434B5C;\n",
              "      box-shadow: 0px 1px 3px 1px rgba(0, 0, 0, 0.15);\n",
              "      filter: drop-shadow(0px 1px 2px rgba(0, 0, 0, 0.3));\n",
              "      fill: #FFFFFF;\n",
              "    }\n",
              "  </style>\n",
              "\n",
              "      <script>\n",
              "        const buttonEl =\n",
              "          document.querySelector('#df-695c62c7-3e52-48d2-9be2-e2c90b2ef325 button.colab-df-convert');\n",
              "        buttonEl.style.display =\n",
              "          google.colab.kernel.accessAllowed ? 'block' : 'none';\n",
              "\n",
              "        async function convertToInteractive(key) {\n",
              "          const element = document.querySelector('#df-695c62c7-3e52-48d2-9be2-e2c90b2ef325');\n",
              "          const dataTable =\n",
              "            await google.colab.kernel.invokeFunction('convertToInteractive',\n",
              "                                                     [key], {});\n",
              "          if (!dataTable) return;\n",
              "\n",
              "          const docLinkHtml = 'Like what you see? Visit the ' +\n",
              "            '<a target=\"_blank\" href=https://colab.research.google.com/notebooks/data_table.ipynb>data table notebook</a>'\n",
              "            + ' to learn more about interactive tables.';\n",
              "          element.innerHTML = '';\n",
              "          dataTable['output_type'] = 'display_data';\n",
              "          await google.colab.output.renderOutput(dataTable, element);\n",
              "          const docLink = document.createElement('div');\n",
              "          docLink.innerHTML = docLinkHtml;\n",
              "          element.appendChild(docLink);\n",
              "        }\n",
              "      </script>\n",
              "    </div>\n",
              "  </div>\n",
              "  "
            ]
          },
          "metadata": {},
          "execution_count": 106
        }
      ]
    },
    {
      "cell_type": "code",
      "source": [
        "X_reg = df_p3[['x1','x2']]\n",
        "Y_reg = df_p3['y']"
      ],
      "metadata": {
        "id": "tqzu2IV1dAYa"
      },
      "execution_count": null,
      "outputs": []
    },
    {
      "cell_type": "code",
      "source": [
        "Reg_log = sm.Logit(Y_reg, X_reg)"
      ],
      "metadata": {
        "id": "EBkrMRbVdaZW"
      },
      "execution_count": null,
      "outputs": []
    },
    {
      "cell_type": "code",
      "source": [
        "logistic_regression = Reg_log.fit()"
      ],
      "metadata": {
        "colab": {
          "base_uri": "https://localhost:8080/"
        },
        "id": "X6jQYpMleBsc",
        "outputId": "95803fe4-fcca-4f51-f1cc-9dc833c9c10c"
      },
      "execution_count": null,
      "outputs": [
        {
          "output_type": "stream",
          "name": "stdout",
          "text": [
            "Optimization terminated successfully.\n",
            "         Current function value: 0.601406\n",
            "         Iterations 6\n"
          ]
        }
      ]
    },
    {
      "cell_type": "code",
      "source": [
        "print(logistic_regression.summary())"
      ],
      "metadata": {
        "colab": {
          "base_uri": "https://localhost:8080/"
        },
        "id": "gmy1MhD9eF4v",
        "outputId": "35216913-7ba2-4f04-fd45-4f8733826da1"
      },
      "execution_count": null,
      "outputs": [
        {
          "output_type": "stream",
          "name": "stdout",
          "text": [
            "                           Logit Regression Results                           \n",
            "==============================================================================\n",
            "Dep. Variable:                      y   No. Observations:                    5\n",
            "Model:                          Logit   Df Residuals:                        3\n",
            "Method:                           MLE   Df Model:                            1\n",
            "Date:                Sat, 07 May 2022   Pseudo R-squ.:                  0.1064\n",
            "Time:                        17:02:05   Log-Likelihood:                -3.0070\n",
            "converged:                       True   LL-Null:                       -3.3651\n",
            "Covariance Type:            nonrobust   LLR p-value:                    0.3974\n",
            "==============================================================================\n",
            "                 coef    std err          z      P>|z|      [0.025      0.975]\n",
            "------------------------------------------------------------------------------\n",
            "x1             0.0406      0.855      0.047      0.962      -1.635       1.716\n",
            "x2             0.6684      1.012      0.660      0.509      -1.315       2.652\n",
            "==============================================================================\n"
          ]
        }
      ]
    },
    {
      "cell_type": "code",
      "source": [
        "logistic_regression.predict([0,2])"
      ],
      "metadata": {
        "colab": {
          "base_uri": "https://localhost:8080/"
        },
        "id": "Cf42bxsBePdb",
        "outputId": "105c0db5-4fc3-44cb-ea57-6ea3a7cc7533"
      },
      "execution_count": null,
      "outputs": [
        {
          "output_type": "execute_result",
          "data": {
            "text/plain": [
              "array([0.79195516])"
            ]
          },
          "metadata": {},
          "execution_count": 122
        }
      ]
    },
    {
      "cell_type": "markdown",
      "source": [
        "La prediccion para el punto $(0,2)$ seria de $0.79$"
      ],
      "metadata": {
        "id": "iO4GuvB4eksl"
      }
    }
  ]
}