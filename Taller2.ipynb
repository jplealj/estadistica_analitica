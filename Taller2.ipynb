{
  "nbformat": 4,
  "nbformat_minor": 0,
  "metadata": {
    "colab": {
      "provenance": []
    },
    "kernelspec": {
      "name": "python3",
      "display_name": "Python 3"
    },
    "language_info": {
      "name": "python"
    }
  },
  "cells": [
    {
      "cell_type": "markdown",
      "source": [
        "# Taller 2\n",
        "Juan Pablo Leal Jaramillo"
      ],
      "metadata": {
        "id": "bInrfTL2LlZO"
      }
    },
    {
      "cell_type": "code",
      "source": [
        "import pandas as pd\n",
        "import numpy as np\n",
        "import matplotlib.pyplot as plt\n",
        "from sklearn.preprocessing import StandardScaler\n",
        "from numpy.linalg import eig\n",
        "from sklearn.metrics import pairwise_distances\n",
        "from sklearn.neighbors import KNeighborsClassifier\n",
        "from sklearn.cluster import KMeans"
      ],
      "metadata": {
        "id": "b2naKYVGwoBx"
      },
      "execution_count": null,
      "outputs": []
    },
    {
      "cell_type": "markdown",
      "source": [
        "# 1. "
      ],
      "metadata": {
        "id": "rs0feR0Tv_vu"
      }
    },
    {
      "cell_type": "code",
      "source": [
        "paises_2 = pd.read_excel('Paises2.xlsx')\n",
        "paises_2.tail()"
      ],
      "metadata": {
        "colab": {
          "base_uri": "https://localhost:8080/",
          "height": 206
        },
        "id": "Ug4iNd-Lw2Sv",
        "outputId": "e9eaf66b-8d73-40d8-8c2e-d40b0a35cfed"
      },
      "execution_count": null,
      "outputs": [
        {
          "output_type": "execute_result",
          "data": {
            "text/plain": [
              "               Pais   X1  X2  X3      X4      X5   X6    X7  X8   X9   X10  \\\n",
              "15           Canadá  1.3   6  45  573695  554227  590  1602  49 -1.1  7854   \n",
              "16         Colombia  1.8  26  37   70263   43354  100   174  52  0.7   622   \n",
              "17            Congo  3.1  90  43    1784     435    8    20  58  0.2   331   \n",
              "18  Corea del Norte  1.8  26  45   12870   38000   47   687  74  0.0  1129   \n",
              "19    Corea del Sur  0.9  10  40  435137  164993  415   632  66  0.1  2982   \n",
              "\n",
              "     X11  \n",
              "15  14.4  \n",
              "16   1.8  \n",
              "17   1.6  \n",
              "18  11.2  \n",
              "19   6.6  "
            ],
            "text/html": [
              "\n",
              "  <div id=\"df-ab0f7e89-c515-4793-82f3-9fd4d4ddc40e\">\n",
              "    <div class=\"colab-df-container\">\n",
              "      <div>\n",
              "<style scoped>\n",
              "    .dataframe tbody tr th:only-of-type {\n",
              "        vertical-align: middle;\n",
              "    }\n",
              "\n",
              "    .dataframe tbody tr th {\n",
              "        vertical-align: top;\n",
              "    }\n",
              "\n",
              "    .dataframe thead th {\n",
              "        text-align: right;\n",
              "    }\n",
              "</style>\n",
              "<table border=\"1\" class=\"dataframe\">\n",
              "  <thead>\n",
              "    <tr style=\"text-align: right;\">\n",
              "      <th></th>\n",
              "      <th>Pais</th>\n",
              "      <th>X1</th>\n",
              "      <th>X2</th>\n",
              "      <th>X3</th>\n",
              "      <th>X4</th>\n",
              "      <th>X5</th>\n",
              "      <th>X6</th>\n",
              "      <th>X7</th>\n",
              "      <th>X8</th>\n",
              "      <th>X9</th>\n",
              "      <th>X10</th>\n",
              "      <th>X11</th>\n",
              "    </tr>\n",
              "  </thead>\n",
              "  <tbody>\n",
              "    <tr>\n",
              "      <th>15</th>\n",
              "      <td>Canadá</td>\n",
              "      <td>1.3</td>\n",
              "      <td>6</td>\n",
              "      <td>45</td>\n",
              "      <td>573695</td>\n",
              "      <td>554227</td>\n",
              "      <td>590</td>\n",
              "      <td>1602</td>\n",
              "      <td>49</td>\n",
              "      <td>-1.1</td>\n",
              "      <td>7854</td>\n",
              "      <td>14.4</td>\n",
              "    </tr>\n",
              "    <tr>\n",
              "      <th>16</th>\n",
              "      <td>Colombia</td>\n",
              "      <td>1.8</td>\n",
              "      <td>26</td>\n",
              "      <td>37</td>\n",
              "      <td>70263</td>\n",
              "      <td>43354</td>\n",
              "      <td>100</td>\n",
              "      <td>174</td>\n",
              "      <td>52</td>\n",
              "      <td>0.7</td>\n",
              "      <td>622</td>\n",
              "      <td>1.8</td>\n",
              "    </tr>\n",
              "    <tr>\n",
              "      <th>17</th>\n",
              "      <td>Congo</td>\n",
              "      <td>3.1</td>\n",
              "      <td>90</td>\n",
              "      <td>43</td>\n",
              "      <td>1784</td>\n",
              "      <td>435</td>\n",
              "      <td>8</td>\n",
              "      <td>20</td>\n",
              "      <td>58</td>\n",
              "      <td>0.2</td>\n",
              "      <td>331</td>\n",
              "      <td>1.6</td>\n",
              "    </tr>\n",
              "    <tr>\n",
              "      <th>18</th>\n",
              "      <td>Corea del Norte</td>\n",
              "      <td>1.8</td>\n",
              "      <td>26</td>\n",
              "      <td>45</td>\n",
              "      <td>12870</td>\n",
              "      <td>38000</td>\n",
              "      <td>47</td>\n",
              "      <td>687</td>\n",
              "      <td>74</td>\n",
              "      <td>0.0</td>\n",
              "      <td>1129</td>\n",
              "      <td>11.2</td>\n",
              "    </tr>\n",
              "    <tr>\n",
              "      <th>19</th>\n",
              "      <td>Corea del Sur</td>\n",
              "      <td>0.9</td>\n",
              "      <td>10</td>\n",
              "      <td>40</td>\n",
              "      <td>435137</td>\n",
              "      <td>164993</td>\n",
              "      <td>415</td>\n",
              "      <td>632</td>\n",
              "      <td>66</td>\n",
              "      <td>0.1</td>\n",
              "      <td>2982</td>\n",
              "      <td>6.6</td>\n",
              "    </tr>\n",
              "  </tbody>\n",
              "</table>\n",
              "</div>\n",
              "      <button class=\"colab-df-convert\" onclick=\"convertToInteractive('df-ab0f7e89-c515-4793-82f3-9fd4d4ddc40e')\"\n",
              "              title=\"Convert this dataframe to an interactive table.\"\n",
              "              style=\"display:none;\">\n",
              "        \n",
              "  <svg xmlns=\"http://www.w3.org/2000/svg\" height=\"24px\"viewBox=\"0 0 24 24\"\n",
              "       width=\"24px\">\n",
              "    <path d=\"M0 0h24v24H0V0z\" fill=\"none\"/>\n",
              "    <path d=\"M18.56 5.44l.94 2.06.94-2.06 2.06-.94-2.06-.94-.94-2.06-.94 2.06-2.06.94zm-11 1L8.5 8.5l.94-2.06 2.06-.94-2.06-.94L8.5 2.5l-.94 2.06-2.06.94zm10 10l.94 2.06.94-2.06 2.06-.94-2.06-.94-.94-2.06-.94 2.06-2.06.94z\"/><path d=\"M17.41 7.96l-1.37-1.37c-.4-.4-.92-.59-1.43-.59-.52 0-1.04.2-1.43.59L10.3 9.45l-7.72 7.72c-.78.78-.78 2.05 0 2.83L4 21.41c.39.39.9.59 1.41.59.51 0 1.02-.2 1.41-.59l7.78-7.78 2.81-2.81c.8-.78.8-2.07 0-2.86zM5.41 20L4 18.59l7.72-7.72 1.47 1.35L5.41 20z\"/>\n",
              "  </svg>\n",
              "      </button>\n",
              "      \n",
              "  <style>\n",
              "    .colab-df-container {\n",
              "      display:flex;\n",
              "      flex-wrap:wrap;\n",
              "      gap: 12px;\n",
              "    }\n",
              "\n",
              "    .colab-df-convert {\n",
              "      background-color: #E8F0FE;\n",
              "      border: none;\n",
              "      border-radius: 50%;\n",
              "      cursor: pointer;\n",
              "      display: none;\n",
              "      fill: #1967D2;\n",
              "      height: 32px;\n",
              "      padding: 0 0 0 0;\n",
              "      width: 32px;\n",
              "    }\n",
              "\n",
              "    .colab-df-convert:hover {\n",
              "      background-color: #E2EBFA;\n",
              "      box-shadow: 0px 1px 2px rgba(60, 64, 67, 0.3), 0px 1px 3px 1px rgba(60, 64, 67, 0.15);\n",
              "      fill: #174EA6;\n",
              "    }\n",
              "\n",
              "    [theme=dark] .colab-df-convert {\n",
              "      background-color: #3B4455;\n",
              "      fill: #D2E3FC;\n",
              "    }\n",
              "\n",
              "    [theme=dark] .colab-df-convert:hover {\n",
              "      background-color: #434B5C;\n",
              "      box-shadow: 0px 1px 3px 1px rgba(0, 0, 0, 0.15);\n",
              "      filter: drop-shadow(0px 1px 2px rgba(0, 0, 0, 0.3));\n",
              "      fill: #FFFFFF;\n",
              "    }\n",
              "  </style>\n",
              "\n",
              "      <script>\n",
              "        const buttonEl =\n",
              "          document.querySelector('#df-ab0f7e89-c515-4793-82f3-9fd4d4ddc40e button.colab-df-convert');\n",
              "        buttonEl.style.display =\n",
              "          google.colab.kernel.accessAllowed ? 'block' : 'none';\n",
              "\n",
              "        async function convertToInteractive(key) {\n",
              "          const element = document.querySelector('#df-ab0f7e89-c515-4793-82f3-9fd4d4ddc40e');\n",
              "          const dataTable =\n",
              "            await google.colab.kernel.invokeFunction('convertToInteractive',\n",
              "                                                     [key], {});\n",
              "          if (!dataTable) return;\n",
              "\n",
              "          const docLinkHtml = 'Like what you see? Visit the ' +\n",
              "            '<a target=\"_blank\" href=https://colab.research.google.com/notebooks/data_table.ipynb>data table notebook</a>'\n",
              "            + ' to learn more about interactive tables.';\n",
              "          element.innerHTML = '';\n",
              "          dataTable['output_type'] = 'display_data';\n",
              "          await google.colab.output.renderOutput(dataTable, element);\n",
              "          const docLink = document.createElement('div');\n",
              "          docLink.innerHTML = docLinkHtml;\n",
              "          element.appendChild(docLink);\n",
              "        }\n",
              "      </script>\n",
              "    </div>\n",
              "  </div>\n",
              "  "
            ]
          },
          "metadata": {},
          "execution_count": 38
        }
      ]
    },
    {
      "cell_type": "code",
      "source": [
        "paises_2.describe()"
      ],
      "metadata": {
        "colab": {
          "base_uri": "https://localhost:8080/",
          "height": 300
        },
        "id": "UKDzEg9ZxSHY",
        "outputId": "2294b3ea-5e9b-4a87-f1f3-ec91856bb66c"
      },
      "execution_count": null,
      "outputs": [
        {
          "output_type": "execute_result",
          "data": {
            "text/plain": [
              "              X1          X2         X3             X4             X5  \\\n",
              "count  20.000000   20.000000  20.000000      20.000000      20.000000   \n",
              "mean    1.745000   39.000000  39.300000  150981.850000   98212.700000   \n",
              "std     1.176737   34.908904   8.651742  195560.377994  146594.796551   \n",
              "min    -0.600000    6.000000  13.000000    1784.000000       6.000000   \n",
              "25%     0.975000   12.250000  37.000000    7937.500000    3633.250000   \n",
              "50%     1.700000   26.000000  41.000000   36604.000000   40677.000000   \n",
              "75%     2.600000   59.250000  45.000000  257640.250000  109512.500000   \n",
              "max     4.300000  124.000000  49.000000  579787.000000  554227.000000   \n",
              "\n",
              "               X6           X7         X8         X9          X10        X11  \n",
              "count   20.000000    20.000000  20.000000  20.000000    20.000000  20.000000  \n",
              "mean   177.700000   485.500000  37.600000   0.400000  2009.700000   5.435000  \n",
              "std    202.381375   489.887366  21.864174   1.046297  2219.516332   5.210745  \n",
              "min      2.000000    20.000000   1.000000  -1.100000    20.000000   0.100000  \n",
              "25%     11.000000   154.000000  19.750000  -0.050000   338.500000   1.150000  \n",
              "50%     85.500000   270.500000  44.500000   0.100000  1017.500000   3.250000  \n",
              "75%    355.000000   744.500000  52.250000   0.700000  3061.750000   9.950000  \n",
              "max    590.000000  1602.000000  74.000000   4.100000  7854.000000  15.300000  "
            ],
            "text/html": [
              "\n",
              "  <div id=\"df-d41f277d-60d0-4a4c-b9cf-1957059fa9c0\">\n",
              "    <div class=\"colab-df-container\">\n",
              "      <div>\n",
              "<style scoped>\n",
              "    .dataframe tbody tr th:only-of-type {\n",
              "        vertical-align: middle;\n",
              "    }\n",
              "\n",
              "    .dataframe tbody tr th {\n",
              "        vertical-align: top;\n",
              "    }\n",
              "\n",
              "    .dataframe thead th {\n",
              "        text-align: right;\n",
              "    }\n",
              "</style>\n",
              "<table border=\"1\" class=\"dataframe\">\n",
              "  <thead>\n",
              "    <tr style=\"text-align: right;\">\n",
              "      <th></th>\n",
              "      <th>X1</th>\n",
              "      <th>X2</th>\n",
              "      <th>X3</th>\n",
              "      <th>X4</th>\n",
              "      <th>X5</th>\n",
              "      <th>X6</th>\n",
              "      <th>X7</th>\n",
              "      <th>X8</th>\n",
              "      <th>X9</th>\n",
              "      <th>X10</th>\n",
              "      <th>X11</th>\n",
              "    </tr>\n",
              "  </thead>\n",
              "  <tbody>\n",
              "    <tr>\n",
              "      <th>count</th>\n",
              "      <td>20.000000</td>\n",
              "      <td>20.000000</td>\n",
              "      <td>20.000000</td>\n",
              "      <td>20.000000</td>\n",
              "      <td>20.000000</td>\n",
              "      <td>20.000000</td>\n",
              "      <td>20.000000</td>\n",
              "      <td>20.000000</td>\n",
              "      <td>20.000000</td>\n",
              "      <td>20.000000</td>\n",
              "      <td>20.000000</td>\n",
              "    </tr>\n",
              "    <tr>\n",
              "      <th>mean</th>\n",
              "      <td>1.745000</td>\n",
              "      <td>39.000000</td>\n",
              "      <td>39.300000</td>\n",
              "      <td>150981.850000</td>\n",
              "      <td>98212.700000</td>\n",
              "      <td>177.700000</td>\n",
              "      <td>485.500000</td>\n",
              "      <td>37.600000</td>\n",
              "      <td>0.400000</td>\n",
              "      <td>2009.700000</td>\n",
              "      <td>5.435000</td>\n",
              "    </tr>\n",
              "    <tr>\n",
              "      <th>std</th>\n",
              "      <td>1.176737</td>\n",
              "      <td>34.908904</td>\n",
              "      <td>8.651742</td>\n",
              "      <td>195560.377994</td>\n",
              "      <td>146594.796551</td>\n",
              "      <td>202.381375</td>\n",
              "      <td>489.887366</td>\n",
              "      <td>21.864174</td>\n",
              "      <td>1.046297</td>\n",
              "      <td>2219.516332</td>\n",
              "      <td>5.210745</td>\n",
              "    </tr>\n",
              "    <tr>\n",
              "      <th>min</th>\n",
              "      <td>-0.600000</td>\n",
              "      <td>6.000000</td>\n",
              "      <td>13.000000</td>\n",
              "      <td>1784.000000</td>\n",
              "      <td>6.000000</td>\n",
              "      <td>2.000000</td>\n",
              "      <td>20.000000</td>\n",
              "      <td>1.000000</td>\n",
              "      <td>-1.100000</td>\n",
              "      <td>20.000000</td>\n",
              "      <td>0.100000</td>\n",
              "    </tr>\n",
              "    <tr>\n",
              "      <th>25%</th>\n",
              "      <td>0.975000</td>\n",
              "      <td>12.250000</td>\n",
              "      <td>37.000000</td>\n",
              "      <td>7937.500000</td>\n",
              "      <td>3633.250000</td>\n",
              "      <td>11.000000</td>\n",
              "      <td>154.000000</td>\n",
              "      <td>19.750000</td>\n",
              "      <td>-0.050000</td>\n",
              "      <td>338.500000</td>\n",
              "      <td>1.150000</td>\n",
              "    </tr>\n",
              "    <tr>\n",
              "      <th>50%</th>\n",
              "      <td>1.700000</td>\n",
              "      <td>26.000000</td>\n",
              "      <td>41.000000</td>\n",
              "      <td>36604.000000</td>\n",
              "      <td>40677.000000</td>\n",
              "      <td>85.500000</td>\n",
              "      <td>270.500000</td>\n",
              "      <td>44.500000</td>\n",
              "      <td>0.100000</td>\n",
              "      <td>1017.500000</td>\n",
              "      <td>3.250000</td>\n",
              "    </tr>\n",
              "    <tr>\n",
              "      <th>75%</th>\n",
              "      <td>2.600000</td>\n",
              "      <td>59.250000</td>\n",
              "      <td>45.000000</td>\n",
              "      <td>257640.250000</td>\n",
              "      <td>109512.500000</td>\n",
              "      <td>355.000000</td>\n",
              "      <td>744.500000</td>\n",
              "      <td>52.250000</td>\n",
              "      <td>0.700000</td>\n",
              "      <td>3061.750000</td>\n",
              "      <td>9.950000</td>\n",
              "    </tr>\n",
              "    <tr>\n",
              "      <th>max</th>\n",
              "      <td>4.300000</td>\n",
              "      <td>124.000000</td>\n",
              "      <td>49.000000</td>\n",
              "      <td>579787.000000</td>\n",
              "      <td>554227.000000</td>\n",
              "      <td>590.000000</td>\n",
              "      <td>1602.000000</td>\n",
              "      <td>74.000000</td>\n",
              "      <td>4.100000</td>\n",
              "      <td>7854.000000</td>\n",
              "      <td>15.300000</td>\n",
              "    </tr>\n",
              "  </tbody>\n",
              "</table>\n",
              "</div>\n",
              "      <button class=\"colab-df-convert\" onclick=\"convertToInteractive('df-d41f277d-60d0-4a4c-b9cf-1957059fa9c0')\"\n",
              "              title=\"Convert this dataframe to an interactive table.\"\n",
              "              style=\"display:none;\">\n",
              "        \n",
              "  <svg xmlns=\"http://www.w3.org/2000/svg\" height=\"24px\"viewBox=\"0 0 24 24\"\n",
              "       width=\"24px\">\n",
              "    <path d=\"M0 0h24v24H0V0z\" fill=\"none\"/>\n",
              "    <path d=\"M18.56 5.44l.94 2.06.94-2.06 2.06-.94-2.06-.94-.94-2.06-.94 2.06-2.06.94zm-11 1L8.5 8.5l.94-2.06 2.06-.94-2.06-.94L8.5 2.5l-.94 2.06-2.06.94zm10 10l.94 2.06.94-2.06 2.06-.94-2.06-.94-.94-2.06-.94 2.06-2.06.94z\"/><path d=\"M17.41 7.96l-1.37-1.37c-.4-.4-.92-.59-1.43-.59-.52 0-1.04.2-1.43.59L10.3 9.45l-7.72 7.72c-.78.78-.78 2.05 0 2.83L4 21.41c.39.39.9.59 1.41.59.51 0 1.02-.2 1.41-.59l7.78-7.78 2.81-2.81c.8-.78.8-2.07 0-2.86zM5.41 20L4 18.59l7.72-7.72 1.47 1.35L5.41 20z\"/>\n",
              "  </svg>\n",
              "      </button>\n",
              "      \n",
              "  <style>\n",
              "    .colab-df-container {\n",
              "      display:flex;\n",
              "      flex-wrap:wrap;\n",
              "      gap: 12px;\n",
              "    }\n",
              "\n",
              "    .colab-df-convert {\n",
              "      background-color: #E8F0FE;\n",
              "      border: none;\n",
              "      border-radius: 50%;\n",
              "      cursor: pointer;\n",
              "      display: none;\n",
              "      fill: #1967D2;\n",
              "      height: 32px;\n",
              "      padding: 0 0 0 0;\n",
              "      width: 32px;\n",
              "    }\n",
              "\n",
              "    .colab-df-convert:hover {\n",
              "      background-color: #E2EBFA;\n",
              "      box-shadow: 0px 1px 2px rgba(60, 64, 67, 0.3), 0px 1px 3px 1px rgba(60, 64, 67, 0.15);\n",
              "      fill: #174EA6;\n",
              "    }\n",
              "\n",
              "    [theme=dark] .colab-df-convert {\n",
              "      background-color: #3B4455;\n",
              "      fill: #D2E3FC;\n",
              "    }\n",
              "\n",
              "    [theme=dark] .colab-df-convert:hover {\n",
              "      background-color: #434B5C;\n",
              "      box-shadow: 0px 1px 3px 1px rgba(0, 0, 0, 0.15);\n",
              "      filter: drop-shadow(0px 1px 2px rgba(0, 0, 0, 0.3));\n",
              "      fill: #FFFFFF;\n",
              "    }\n",
              "  </style>\n",
              "\n",
              "      <script>\n",
              "        const buttonEl =\n",
              "          document.querySelector('#df-d41f277d-60d0-4a4c-b9cf-1957059fa9c0 button.colab-df-convert');\n",
              "        buttonEl.style.display =\n",
              "          google.colab.kernel.accessAllowed ? 'block' : 'none';\n",
              "\n",
              "        async function convertToInteractive(key) {\n",
              "          const element = document.querySelector('#df-d41f277d-60d0-4a4c-b9cf-1957059fa9c0');\n",
              "          const dataTable =\n",
              "            await google.colab.kernel.invokeFunction('convertToInteractive',\n",
              "                                                     [key], {});\n",
              "          if (!dataTable) return;\n",
              "\n",
              "          const docLinkHtml = 'Like what you see? Visit the ' +\n",
              "            '<a target=\"_blank\" href=https://colab.research.google.com/notebooks/data_table.ipynb>data table notebook</a>'\n",
              "            + ' to learn more about interactive tables.';\n",
              "          element.innerHTML = '';\n",
              "          dataTable['output_type'] = 'display_data';\n",
              "          await google.colab.output.renderOutput(dataTable, element);\n",
              "          const docLink = document.createElement('div');\n",
              "          docLink.innerHTML = docLinkHtml;\n",
              "          element.appendChild(docLink);\n",
              "        }\n",
              "      </script>\n",
              "    </div>\n",
              "  </div>\n",
              "  "
            ]
          },
          "metadata": {},
          "execution_count": 4
        }
      ]
    },
    {
      "cell_type": "markdown",
      "source": [
        "## 1.1"
      ],
      "metadata": {
        "id": "9mzdudo5wR0H"
      }
    },
    {
      "cell_type": "markdown",
      "source": [
        "Se crea una matriz con toda la informacion sin la columna del pais"
      ],
      "metadata": {
        "id": "b8EDDSkoyq_t"
      }
    },
    {
      "cell_type": "code",
      "source": [
        "X = paises_2.iloc[:,1:].values\n",
        "X.mean(axis=0)"
      ],
      "metadata": {
        "colab": {
          "base_uri": "https://localhost:8080/"
        },
        "id": "aJhPJwvLxeTb",
        "outputId": "c56279f0-ea26-410b-ba99-13837fa4c2d7"
      },
      "execution_count": null,
      "outputs": [
        {
          "output_type": "execute_result",
          "data": {
            "text/plain": [
              "array([1.7450000e+00, 3.9000000e+01, 3.9300000e+01, 1.5098185e+05,\n",
              "       9.8212700e+04, 1.7770000e+02, 4.8550000e+02, 3.7600000e+01,\n",
              "       4.0000000e-01, 2.0097000e+03, 5.4350000e+00])"
            ]
          },
          "metadata": {},
          "execution_count": 6
        }
      ]
    },
    {
      "cell_type": "markdown",
      "source": [
        "Se entandarizan todos los datos mediante standard scaler"
      ],
      "metadata": {
        "id": "6Yy2Ozq-zL3P"
      }
    },
    {
      "cell_type": "code",
      "source": [
        "X_standarized = StandardScaler().fit_transform(X)\n",
        "X_standarized"
      ],
      "metadata": {
        "colab": {
          "base_uri": "https://localhost:8080/"
        },
        "id": "Sc7QkGyZyIrp",
        "outputId": "aa9136c1-2f48-4208-c759-48ad6b238348"
      },
      "execution_count": null,
      "outputs": [
        {
          "output_type": "execute_result",
          "data": {
            "text/plain": [
              "array([[-0.64955357, -0.26451146,  0.20159678, -0.78056703, -0.66004874,\n",
              "        -0.84002104, -0.81992424,  0.7226464 , -0.39223227, -0.77136178,\n",
              "        -0.83385733],\n",
              "       [ 1.0942144 ,  2.49816379,  0.79452847, -0.76890439, -0.68068101,\n",
              "        -0.87043822, -0.89741388, -0.87280669,  0.2941742 , -0.88784957,\n",
              "        -0.97168499],\n",
              "       [ 2.22766358, -0.52902292, -3.11882071, -0.09150606, -0.05034681,\n",
              "        -0.41418056,  0.02408462, -1.71745833, -0.39223227,  1.18165765,\n",
              "         1.50921286],\n",
              "       [ 0.65827241, -0.14695081, -1.81437098, -0.55806929, -0.54820893,\n",
              "        -0.68793515, -0.63981317, -1.67053323,  0.39223227, -0.51018877,\n",
              "        -0.47944335],\n",
              "       [-0.38798837, -0.49963276, -0.98426661,  0.66864295, -0.22571415,\n",
              "        -0.08973067,  1.16758049, -0.73203142, -0.2941742 , -0.2337614 ,\n",
              "        -0.38099503],\n",
              "       [-0.30079997, -0.96987535,  0.43876945,  0.98068541,  0.48250899,\n",
              "         1.68460465,  0.93720586, -0.87280669, -0.39223227,  1.53990382,\n",
              "         1.9423855 ],\n",
              "       [-0.99830716, -0.96987535,  0.20159678,  0.34397778, -0.3146191 ,\n",
              "         1.45647583, -0.38011813,  0.44109585, -0.78446454,  0.59690746,\n",
              "         0.3475226 ],\n",
              "       [ 0.22233042,  1.17560649,  0.32018311, -0.64206337, -0.6181403 ,\n",
              "        -0.89071633, -0.55604057, -1.48283287,  3.6281485 , -0.8994059 ,\n",
              "        -1.03075399],\n",
              "       [-1.25987236, -0.91109503,  0.08301044,  0.52320886, -0.18180408,\n",
              "         1.41591959,  0.90369683, -0.8258816 , -0.68640647,  1.43774588,\n",
              "         0.91852289],\n",
              "       [ 1.0942144 ,  1.64584908,  1.03170115, -0.78143268, -0.68732282,\n",
              "        -0.87550774, -0.96233764,  0.34724567,  0.88252261, -0.91974504,\n",
              "        -1.05044365],\n",
              "       [-1.17268396, -0.76414422,  1.15028749, -0.68006269, -0.46762548,\n",
              "         0.06235521, -0.39896697, -0.3097056 , -0.78446454,  0.17671937,\n",
              "         0.87914356],\n",
              "       [ 0.48389561,  0.88170487, -0.27274858, -0.76112405, -0.66760038,\n",
              "        -0.72342186, -0.59583256,  0.34724567,  0.78446454, -0.75656968,\n",
              "        -0.87323666],\n",
              "       [-0.12642318,  0.14695081, -0.50992126,  2.24966226,  1.13707982,\n",
              "        -0.52064068, -0.50158839,  1.33267258,  0.19611614, -0.59709236,\n",
              "        -0.794478  ],\n",
              "       [-2.04456794, -0.70536389,  1.03170115, -0.73321347,  1.98148438,\n",
              "         0.79743699,  2.2168322 , -0.21585542, -0.58834841,  0.19798301,\n",
              "         0.19000527],\n",
              "       [ 1.007026  ,  0.49963276, -0.15416224, -0.74690644, -0.66818827,\n",
              "        -0.88057727, -0.93720586,  0.30032058,  0.19611614, -0.88137803,\n",
              "        -1.03075399],\n",
              "       [-0.38798837, -0.96987535,  0.67594213,  2.21770149,  3.19152392,\n",
              "         2.09016701,  2.33830245,  0.53494604, -1.47087101,  2.70154592,\n",
              "         1.76517851],\n",
              "       [ 0.04795362, -0.38207211, -0.27274858, -0.42347941, -0.38394159,\n",
              "        -0.39390244, -0.65237905,  0.67572131,  0.2941742 , -0.64146866,\n",
              "        -0.71571934],\n",
              "       [ 1.1814028 ,  1.49889827,  0.43876945, -0.78274426, -0.68432036,\n",
              "        -0.86029916, -0.97490353,  0.95727185, -0.19611614, -0.77598431,\n",
              "        -0.75509867],\n",
              "       [ 0.04795362, -0.38207211,  0.67594213, -0.72458322, -0.42141282,\n",
              "        -0.66258751,  0.42200443,  1.70807331, -0.39223227, -0.40710632,\n",
              "         1.13510921],\n",
              "       [-0.73674197, -0.8523147 ,  0.08301044,  1.49077761,  0.46737772,\n",
              "         1.20299935,  0.30681712,  1.33267258, -0.2941742 ,  0.44944871,\n",
              "         0.2293846 ]])"
            ]
          },
          "metadata": {},
          "execution_count": 9
        }
      ]
    },
    {
      "cell_type": "code",
      "source": [
        "distance_matrix = pairwise_distances(X_standarized)"
      ],
      "metadata": {
        "id": "DCBZpYQA2ovH"
      },
      "execution_count": null,
      "outputs": []
    },
    {
      "cell_type": "markdown",
      "source": [
        "Se obtiene la matriz de distancias"
      ],
      "metadata": {
        "id": "3bWAII1i22VK"
      }
    },
    {
      "cell_type": "code",
      "source": [
        "distance_matrix"
      ],
      "metadata": {
        "colab": {
          "base_uri": "https://localhost:8080/"
        },
        "id": "-YCgPO5y2v0g",
        "outputId": "091fc7d5-62be-4d33-ad7c-c4aee26befcc"
      },
      "execution_count": null,
      "outputs": [
        {
          "output_type": "execute_result",
          "data": {
            "text/plain": [
              "array([[0.        , 3.75251264, 6.03093057, 3.52738611, 3.3093411 ,\n",
              "        5.48990447, 3.31230332, 4.90143777, 4.60747   , 3.03914722,\n",
              "        2.74130532, 2.10120931, 3.78348159, 4.96183014, 2.01164625,\n",
              "        7.94923582, 1.28855145, 2.57740656, 2.70921918, 3.90427477],\n",
              "       [3.75251264, 0.        , 6.26886696, 3.89687199, 4.75791781,\n",
              "        6.57761518, 5.53595117, 3.78977957, 6.16489377, 1.62142991,\n",
              "        4.80825357, 2.44808995, 5.13852889, 6.5938242 , 2.50867342,\n",
              "        9.10266152, 3.68078291, 2.1881512 , 4.80203347, 5.97487322],\n",
              "       [6.03093057, 6.26886696, 0.        , 3.56742078, 4.4695894 ,\n",
              "        5.19091143, 5.66156259, 6.85155252, 5.32679   , 6.49345309,\n",
              "        5.85764558, 5.43329852, 6.17285459, 7.16431244, 5.33060079,\n",
              "        7.58406903, 5.29385853, 6.00769652, 5.85916969, 6.0081456 ],\n",
              "       [3.52738611, 3.89687199, 3.56742078, 0.        , 2.92907995,\n",
              "        5.43503753, 4.5577305 , 4.18538248, 4.85808108, 4.06427692,\n",
              "        4.32653624, 2.82221069, 4.7264012 , 6.04494576, 2.79929483,\n",
              "        8.36300873, 2.91953225, 3.95831695, 4.7380488 , 5.16317071],\n",
              "       [3.3093411 , 4.75791781, 4.4695894 , 2.92907995, 0.        ,\n",
              "        3.82458741, 3.1203665 , 5.21329925, 3.01224121, 4.66927527,\n",
              "        3.43102771, 3.43061967, 3.58420041, 4.0547565 , 3.61061305,\n",
              "        6.27606569, 2.81759674, 4.39093667, 3.75711748, 3.17108532],\n",
              "       [5.48990447, 6.57761518, 5.19091143, 5.43503753, 3.82458741,\n",
              "        0.        , 2.94685902, 6.99449854, 1.70915824, 6.47271826,\n",
              "        3.58417912, 5.7559071 , 5.33077764, 4.05126919, 5.92015472,\n",
              "        3.94796401, 5.02352337, 6.23883392, 4.59637215, 3.19646769],\n",
              "       [3.31230332, 5.53595117, 5.66156259, 4.5577305 , 3.1203665 ,\n",
              "        2.94685902, 0.        , 6.32637564, 2.10556912, 5.1121929 ,\n",
              "        2.23866606, 4.21747676, 4.08200888, 4.01479956, 4.29661653,\n",
              "        5.57780961, 3.10476555, 4.66292013, 3.36743963, 1.90528034],\n",
              "       [4.90143777, 3.78977957, 6.85155252, 4.18538248, 5.21329925,\n",
              "        6.99449854, 6.32637564, 0.        , 6.62692076, 3.54479008,\n",
              "        5.74526092, 3.46893282, 5.77102829, 6.96898638, 4.05159045,\n",
              "        9.79348527, 4.37122297, 4.68073416, 5.90898692, 6.53170025],\n",
              "       [4.60747   , 6.16489377, 5.32679   , 4.85808108, 3.01224121,\n",
              "        1.70915824, 2.10556912, 6.62692076, 0.        , 6.07802789,\n",
              "        2.84511759, 5.16308185, 5.0709038 , 3.51750522, 5.37801158,\n",
              "        4.76023187, 4.35442019, 5.80382936, 4.29724493, 2.881179  ],\n",
              "       [3.03914722, 1.62142991, 6.49345309, 4.06427692, 4.66927527,\n",
              "        6.47271826, 5.1121929 , 3.54479008, 6.07802789, 0.        ,\n",
              "        4.51136864, 1.69820373, 4.536441  , 6.37804459, 1.79028397,\n",
              "        8.91685946, 2.84612579, 1.42290322, 3.98568188, 5.36551857],\n",
              "       [2.74130532, 4.80825357, 5.85764558, 4.32653624, 3.43102771,\n",
              "        3.58417912, 2.23866606, 5.74526092, 2.84511759, 4.51136864,\n",
              "        0.        , 3.87503002, 4.82167707, 3.83197693, 3.92101037,\n",
              "        6.52828839, 3.05838856, 4.23551834, 2.77421   , 3.48672299],\n",
              "       [2.10120931, 2.44808995, 5.43329852, 2.82221069, 3.43061967,\n",
              "        5.7559071 , 4.21747676, 3.46893282, 5.16308185, 1.69820373,\n",
              "        3.87503002, 0.        , 3.83264483, 5.66563151, 0.98177793,\n",
              "        8.33197369, 1.57472704, 1.69849433, 3.34378128, 4.50702093],\n",
              "       [3.78348159, 5.13852889, 6.17285459, 4.7264012 , 3.58420041,\n",
              "        5.33077764, 4.08200888, 5.77102829, 5.0709038 , 4.536441  ,\n",
              "        4.82167707, 3.83264483, 0.        , 5.48950826, 3.91098264,\n",
              "        6.53246642, 3.21152437, 4.19748648, 4.2557295 , 2.95894867],\n",
              "       [4.96183014, 6.5938242 , 7.16431244, 6.04494576, 4.0547565 ,\n",
              "        4.05126919, 4.01479956, 6.96898638, 3.51750522, 6.37804459,\n",
              "        3.83197693, 5.66563151, 5.48950826, 0.        , 5.95753731,\n",
              "        4.98902138, 4.9624956 , 6.24766907, 4.55369235, 4.02896689],\n",
              "       [2.01164625, 2.50867342, 5.33060079, 2.79929483, 3.61061305,\n",
              "        5.92015472, 4.29661653, 4.05159045, 5.37801158, 1.79028397,\n",
              "        3.92101037, 0.98177793, 3.91098264, 5.95753731, 0.        ,\n",
              "        8.45716412, 1.58808387, 1.43401833, 3.40389245, 4.66642782],\n",
              "       [7.94923582, 9.10266152, 7.58406903, 8.36300873, 6.27606569,\n",
              "        3.94796401, 5.57780961, 9.79348527, 4.76023187, 8.91685946,\n",
              "        6.52828839, 8.33197369, 6.53246642, 4.98902138, 8.45716412,\n",
              "        0.        , 7.53498122, 8.5187959 , 6.78941529, 4.77514349],\n",
              "       [1.28855145, 3.68078291, 5.29385853, 2.91953225, 2.81759674,\n",
              "        5.02352337, 3.10476555, 4.37122297, 4.35442019, 2.84612579,\n",
              "        3.05838856, 1.57472704, 3.21152437, 4.9624956 , 1.58808387,\n",
              "        7.53498122, 0.        , 2.49181894, 2.68997579, 3.41815415],\n",
              "       [2.57740656, 2.1881512 , 6.00769652, 3.95831695, 4.39093667,\n",
              "        6.23883392, 4.66292013, 4.68073416, 5.80382936, 1.42290322,\n",
              "        4.23551834, 1.69849433, 4.19748648, 6.24766907, 1.43401833,\n",
              "        8.5187959 , 2.49181894, 0.        , 3.35456011, 4.93465293],\n",
              "       [2.70921918, 4.80203347, 5.85916969, 4.7380488 , 3.75711748,\n",
              "        4.59637215, 3.36743963, 5.90898692, 4.29724493, 3.98568188,\n",
              "        2.77421   , 3.34378128, 4.2557295 , 4.55369235, 3.40389245,\n",
              "        6.78941529, 2.68997579, 3.35456011, 0.        , 3.47627136],\n",
              "       [3.90427477, 5.97487322, 6.0081456 , 5.16317071, 3.17108532,\n",
              "        3.19646769, 1.90528034, 6.53170025, 2.881179  , 5.36551857,\n",
              "        3.48672299, 4.50702093, 2.95894867, 4.02896689, 4.66642782,\n",
              "        4.77514349, 3.41815415, 4.93465293, 3.47627136, 0.        ]])"
            ]
          },
          "metadata": {},
          "execution_count": 18
        }
      ]
    },
    {
      "cell_type": "markdown",
      "source": [
        "## 1.2"
      ],
      "metadata": {
        "id": "I9VmfcIHwTsI"
      }
    },
    {
      "cell_type": "markdown",
      "source": [
        "Se saca la matriz de covarianza de la matriz ya estandarizada"
      ],
      "metadata": {
        "id": "0SejHr2wzZP8"
      }
    },
    {
      "cell_type": "code",
      "source": [
        "S_cov = np.cov(X_standarized.T)"
      ],
      "metadata": {
        "id": "fUIh2Wg0ylTy"
      },
      "execution_count": null,
      "outputs": []
    },
    {
      "cell_type": "markdown",
      "source": [
        "Se obtienen los valores y los vectores propios de la matriz de covarianza"
      ],
      "metadata": {
        "id": "mwzlUK-ezqtv"
      }
    },
    {
      "cell_type": "code",
      "source": [
        "vals, vectors = eig(S_cov)"
      ],
      "metadata": {
        "id": "hZe1k2TnzcpS"
      },
      "execution_count": null,
      "outputs": []
    },
    {
      "cell_type": "markdown",
      "source": [
        "Se obtienen las proyecciones de los planos de las dos primeras coordenadas principales para graficar"
      ],
      "metadata": {
        "id": "laB583Sz0d0G"
      }
    },
    {
      "cell_type": "code",
      "source": [
        "Z1 = vectors[:,0]\n",
        "Z2 = vectors[:,1]"
      ],
      "metadata": {
        "id": "f3Lp4AXBzujm"
      },
      "execution_count": null,
      "outputs": []
    },
    {
      "cell_type": "code",
      "source": [
        "proy_Z1 = X_standarized @ Z1\n",
        "proy_Z2 = X_standarized @ Z2"
      ],
      "metadata": {
        "id": "nGozh4d90LEt"
      },
      "execution_count": null,
      "outputs": []
    },
    {
      "cell_type": "code",
      "source": [
        "plt.xlabel('Z1')\n",
        "plt.ylabel('Z2')\n",
        "plt.plot(proy_Z1, proy_Z2, 'ro')"
      ],
      "metadata": {
        "colab": {
          "base_uri": "https://localhost:8080/",
          "height": 296
        },
        "id": "tgdxlANR0zoO",
        "outputId": "4ae27ab7-1d33-4826-aaa7-2d3399055e0d"
      },
      "execution_count": null,
      "outputs": [
        {
          "output_type": "execute_result",
          "data": {
            "text/plain": [
              "[<matplotlib.lines.Line2D at 0x7ff7c5f6d490>]"
            ]
          },
          "metadata": {},
          "execution_count": 24
        },
        {
          "output_type": "display_data",
          "data": {
            "text/plain": [
              "<Figure size 432x288 with 1 Axes>"
            ],
            "image/png": "[encoded data removed]"
          },
          "metadata": {
            "needs_background": "light"
          }
        }
      ]
    },
    {
      "cell_type": "markdown",
      "source": [
        "Si existen varios outliers como se puede observar en la grafica. A toda la derecha hacia arriba se puede ver uno. Abajo en el centro hay otro y hacia la izquierda un poco hacia abajo tambien se puede observar uno."
      ],
      "metadata": {
        "id": "CKbVC3bd1TNN"
      }
    },
    {
      "cell_type": "markdown",
      "source": [
        "## 1.3"
      ],
      "metadata": {
        "id": "cEBTFnnMwU2n"
      }
    },
    {
      "cell_type": "markdown",
      "source": [
        "Se crea una variable Y que contiene los paises"
      ],
      "metadata": {
        "id": "CE2BFKwc5Za7"
      }
    },
    {
      "cell_type": "code",
      "source": [
        "Y = paises_2['Pais']"
      ],
      "metadata": {
        "id": "IQ86DFys4CQ_"
      },
      "execution_count": null,
      "outputs": []
    },
    {
      "cell_type": "code",
      "source": [
        "paises_2.loc[paises_2['Pais'] == 'Colombia']"
      ],
      "metadata": {
        "colab": {
          "base_uri": "https://localhost:8080/",
          "height": 81
        },
        "id": "J1Vjajl14V11",
        "outputId": "d2c8eb76-0ce3-433b-899b-1c1ef1bf2efc"
      },
      "execution_count": null,
      "outputs": [
        {
          "output_type": "execute_result",
          "data": {
            "text/plain": [
              "        Pais   X1  X2  X3     X4     X5   X6   X7  X8   X9  X10  X11\n",
              "16  Colombia  1.8  26  37  70263  43354  100  174  52  0.7  622  1.8"
            ],
            "text/html": [
              "\n",
              "  <div id=\"df-73e96e38-8b85-4c7d-a665-5912565318ad\">\n",
              "    <div class=\"colab-df-container\">\n",
              "      <div>\n",
              "<style scoped>\n",
              "    .dataframe tbody tr th:only-of-type {\n",
              "        vertical-align: middle;\n",
              "    }\n",
              "\n",
              "    .dataframe tbody tr th {\n",
              "        vertical-align: top;\n",
              "    }\n",
              "\n",
              "    .dataframe thead th {\n",
              "        text-align: right;\n",
              "    }\n",
              "</style>\n",
              "<table border=\"1\" class=\"dataframe\">\n",
              "  <thead>\n",
              "    <tr style=\"text-align: right;\">\n",
              "      <th></th>\n",
              "      <th>Pais</th>\n",
              "      <th>X1</th>\n",
              "      <th>X2</th>\n",
              "      <th>X3</th>\n",
              "      <th>X4</th>\n",
              "      <th>X5</th>\n",
              "      <th>X6</th>\n",
              "      <th>X7</th>\n",
              "      <th>X8</th>\n",
              "      <th>X9</th>\n",
              "      <th>X10</th>\n",
              "      <th>X11</th>\n",
              "    </tr>\n",
              "  </thead>\n",
              "  <tbody>\n",
              "    <tr>\n",
              "      <th>16</th>\n",
              "      <td>Colombia</td>\n",
              "      <td>1.8</td>\n",
              "      <td>26</td>\n",
              "      <td>37</td>\n",
              "      <td>70263</td>\n",
              "      <td>43354</td>\n",
              "      <td>100</td>\n",
              "      <td>174</td>\n",
              "      <td>52</td>\n",
              "      <td>0.7</td>\n",
              "      <td>622</td>\n",
              "      <td>1.8</td>\n",
              "    </tr>\n",
              "  </tbody>\n",
              "</table>\n",
              "</div>\n",
              "      <button class=\"colab-df-convert\" onclick=\"convertToInteractive('df-73e96e38-8b85-4c7d-a665-5912565318ad')\"\n",
              "              title=\"Convert this dataframe to an interactive table.\"\n",
              "              style=\"display:none;\">\n",
              "        \n",
              "  <svg xmlns=\"http://www.w3.org/2000/svg\" height=\"24px\"viewBox=\"0 0 24 24\"\n",
              "       width=\"24px\">\n",
              "    <path d=\"M0 0h24v24H0V0z\" fill=\"none\"/>\n",
              "    <path d=\"M18.56 5.44l.94 2.06.94-2.06 2.06-.94-2.06-.94-.94-2.06-.94 2.06-2.06.94zm-11 1L8.5 8.5l.94-2.06 2.06-.94-2.06-.94L8.5 2.5l-.94 2.06-2.06.94zm10 10l.94 2.06.94-2.06 2.06-.94-2.06-.94-.94-2.06-.94 2.06-2.06.94z\"/><path d=\"M17.41 7.96l-1.37-1.37c-.4-.4-.92-.59-1.43-.59-.52 0-1.04.2-1.43.59L10.3 9.45l-7.72 7.72c-.78.78-.78 2.05 0 2.83L4 21.41c.39.39.9.59 1.41.59.51 0 1.02-.2 1.41-.59l7.78-7.78 2.81-2.81c.8-.78.8-2.07 0-2.86zM5.41 20L4 18.59l7.72-7.72 1.47 1.35L5.41 20z\"/>\n",
              "  </svg>\n",
              "      </button>\n",
              "      \n",
              "  <style>\n",
              "    .colab-df-container {\n",
              "      display:flex;\n",
              "      flex-wrap:wrap;\n",
              "      gap: 12px;\n",
              "    }\n",
              "\n",
              "    .colab-df-convert {\n",
              "      background-color: #E8F0FE;\n",
              "      border: none;\n",
              "      border-radius: 50%;\n",
              "      cursor: pointer;\n",
              "      display: none;\n",
              "      fill: #1967D2;\n",
              "      height: 32px;\n",
              "      padding: 0 0 0 0;\n",
              "      width: 32px;\n",
              "    }\n",
              "\n",
              "    .colab-df-convert:hover {\n",
              "      background-color: #E2EBFA;\n",
              "      box-shadow: 0px 1px 2px rgba(60, 64, 67, 0.3), 0px 1px 3px 1px rgba(60, 64, 67, 0.15);\n",
              "      fill: #174EA6;\n",
              "    }\n",
              "\n",
              "    [theme=dark] .colab-df-convert {\n",
              "      background-color: #3B4455;\n",
              "      fill: #D2E3FC;\n",
              "    }\n",
              "\n",
              "    [theme=dark] .colab-df-convert:hover {\n",
              "      background-color: #434B5C;\n",
              "      box-shadow: 0px 1px 3px 1px rgba(0, 0, 0, 0.15);\n",
              "      filter: drop-shadow(0px 1px 2px rgba(0, 0, 0, 0.3));\n",
              "      fill: #FFFFFF;\n",
              "    }\n",
              "  </style>\n",
              "\n",
              "      <script>\n",
              "        const buttonEl =\n",
              "          document.querySelector('#df-73e96e38-8b85-4c7d-a665-5912565318ad button.colab-df-convert');\n",
              "        buttonEl.style.display =\n",
              "          google.colab.kernel.accessAllowed ? 'block' : 'none';\n",
              "\n",
              "        async function convertToInteractive(key) {\n",
              "          const element = document.querySelector('#df-73e96e38-8b85-4c7d-a665-5912565318ad');\n",
              "          const dataTable =\n",
              "            await google.colab.kernel.invokeFunction('convertToInteractive',\n",
              "                                                     [key], {});\n",
              "          if (!dataTable) return;\n",
              "\n",
              "          const docLinkHtml = 'Like what you see? Visit the ' +\n",
              "            '<a target=\"_blank\" href=https://colab.research.google.com/notebooks/data_table.ipynb>data table notebook</a>'\n",
              "            + ' to learn more about interactive tables.';\n",
              "          element.innerHTML = '';\n",
              "          dataTable['output_type'] = 'display_data';\n",
              "          await google.colab.output.renderOutput(dataTable, element);\n",
              "          const docLink = document.createElement('div');\n",
              "          docLink.innerHTML = docLinkHtml;\n",
              "          element.appendChild(docLink);\n",
              "        }\n",
              "      </script>\n",
              "    </div>\n",
              "  </div>\n",
              "  "
            ]
          },
          "metadata": {},
          "execution_count": 25
        }
      ]
    },
    {
      "cell_type": "markdown",
      "source": [
        "Se crea un arreglo que contiene los valores para Colombia"
      ],
      "metadata": {
        "id": "F0vPDCna5xaV"
      }
    },
    {
      "cell_type": "code",
      "source": [
        "val_colombia = np.array([[1.8, 26, 37, 70263, 43354, 100, 174, 52, 0.7, 622, 1.8]])\n",
        "val_colombia"
      ],
      "metadata": {
        "colab": {
          "base_uri": "https://localhost:8080/"
        },
        "id": "IssKWaES5YCg",
        "outputId": "3c518c6f-5541-4c36-bcb8-392b7b7d7cc3"
      },
      "execution_count": null,
      "outputs": [
        {
          "output_type": "execute_result",
          "data": {
            "text/plain": [
              "array([[1.8000e+00, 2.6000e+01, 3.7000e+01, 7.0263e+04, 4.3354e+04,\n",
              "        1.0000e+02, 1.7400e+02, 5.2000e+01, 7.0000e-01, 6.2200e+02,\n",
              "        1.8000e+00]])"
            ]
          },
          "metadata": {},
          "execution_count": 30
        }
      ]
    },
    {
      "cell_type": "markdown",
      "source": [
        "Se elimina del dataframe a Colombia y se vuelve a crear la matriz X de los valores sin los paises"
      ],
      "metadata": {
        "id": "T-v314r57PpC"
      }
    },
    {
      "cell_type": "code",
      "source": [
        "paises_2 = paises_2.drop(16)\n",
        "X = paises_2.iloc[:,1:].values"
      ],
      "metadata": {
        "id": "1laqDclg63Ws"
      },
      "execution_count": null,
      "outputs": []
    },
    {
      "cell_type": "markdown",
      "source": [
        "Se crea el clasificador de KNN y luego se obtienen los valores de los vecinos de Colombia"
      ],
      "metadata": {
        "id": "lLgkcBuj7yn7"
      }
    },
    {
      "cell_type": "code",
      "source": [
        "knn = KNeighborsClassifier(1)\n",
        "knn.fit(X, Y)\n",
        "neighbors_col = knn.kneighbors(val_colombia)\n",
        "neighbors_col"
      ],
      "metadata": {
        "colab": {
          "base_uri": "https://localhost:8080/"
        },
        "id": "jJak88Cp50vW",
        "outputId": "c28d3d03-8fbc-49ce-e72a-05f71a670891"
      },
      "execution_count": null,
      "outputs": [
        {
          "output_type": "execute_result",
          "data": {
            "text/plain": [
              "(array([[34772.14902677]]), array([[3]]))"
            ]
          },
          "metadata": {},
          "execution_count": 42
        }
      ]
    },
    {
      "cell_type": "code",
      "source": [
        "paises_2.iloc[[3]]"
      ],
      "metadata": {
        "colab": {
          "base_uri": "https://localhost:8080/",
          "height": 81
        },
        "id": "4ezq4QdD7cXp",
        "outputId": "44ecb39c-87af-4c2f-d91b-68af3e03cea1"
      },
      "execution_count": null,
      "outputs": [
        {
          "output_type": "execute_result",
          "data": {
            "text/plain": [
              "      Pais   X1  X2  X3     X4     X5  X6   X7  X8   X9  X10  X11\n",
              "3  Argelia  2.5  34  24  44609  19883  42  180   2  0.8  906  3.0"
            ],
            "text/html": [
              "\n",
              "  <div id=\"df-a09e6139-bb31-4138-81a8-cb025ffb8452\">\n",
              "    <div class=\"colab-df-container\">\n",
              "      <div>\n",
              "<style scoped>\n",
              "    .dataframe tbody tr th:only-of-type {\n",
              "        vertical-align: middle;\n",
              "    }\n",
              "\n",
              "    .dataframe tbody tr th {\n",
              "        vertical-align: top;\n",
              "    }\n",
              "\n",
              "    .dataframe thead th {\n",
              "        text-align: right;\n",
              "    }\n",
              "</style>\n",
              "<table border=\"1\" class=\"dataframe\">\n",
              "  <thead>\n",
              "    <tr style=\"text-align: right;\">\n",
              "      <th></th>\n",
              "      <th>Pais</th>\n",
              "      <th>X1</th>\n",
              "      <th>X2</th>\n",
              "      <th>X3</th>\n",
              "      <th>X4</th>\n",
              "      <th>X5</th>\n",
              "      <th>X6</th>\n",
              "      <th>X7</th>\n",
              "      <th>X8</th>\n",
              "      <th>X9</th>\n",
              "      <th>X10</th>\n",
              "      <th>X11</th>\n",
              "    </tr>\n",
              "  </thead>\n",
              "  <tbody>\n",
              "    <tr>\n",
              "      <th>3</th>\n",
              "      <td>Argelia</td>\n",
              "      <td>2.5</td>\n",
              "      <td>34</td>\n",
              "      <td>24</td>\n",
              "      <td>44609</td>\n",
              "      <td>19883</td>\n",
              "      <td>42</td>\n",
              "      <td>180</td>\n",
              "      <td>2</td>\n",
              "      <td>0.8</td>\n",
              "      <td>906</td>\n",
              "      <td>3.0</td>\n",
              "    </tr>\n",
              "  </tbody>\n",
              "</table>\n",
              "</div>\n",
              "      <button class=\"colab-df-convert\" onclick=\"convertToInteractive('df-a09e6139-bb31-4138-81a8-cb025ffb8452')\"\n",
              "              title=\"Convert this dataframe to an interactive table.\"\n",
              "              style=\"display:none;\">\n",
              "        \n",
              "  <svg xmlns=\"http://www.w3.org/2000/svg\" height=\"24px\"viewBox=\"0 0 24 24\"\n",
              "       width=\"24px\">\n",
              "    <path d=\"M0 0h24v24H0V0z\" fill=\"none\"/>\n",
              "    <path d=\"M18.56 5.44l.94 2.06.94-2.06 2.06-.94-2.06-.94-.94-2.06-.94 2.06-2.06.94zm-11 1L8.5 8.5l.94-2.06 2.06-.94-2.06-.94L8.5 2.5l-.94 2.06-2.06.94zm10 10l.94 2.06.94-2.06 2.06-.94-2.06-.94-.94-2.06-.94 2.06-2.06.94z\"/><path d=\"M17.41 7.96l-1.37-1.37c-.4-.4-.92-.59-1.43-.59-.52 0-1.04.2-1.43.59L10.3 9.45l-7.72 7.72c-.78.78-.78 2.05 0 2.83L4 21.41c.39.39.9.59 1.41.59.51 0 1.02-.2 1.41-.59l7.78-7.78 2.81-2.81c.8-.78.8-2.07 0-2.86zM5.41 20L4 18.59l7.72-7.72 1.47 1.35L5.41 20z\"/>\n",
              "  </svg>\n",
              "      </button>\n",
              "      \n",
              "  <style>\n",
              "    .colab-df-container {\n",
              "      display:flex;\n",
              "      flex-wrap:wrap;\n",
              "      gap: 12px;\n",
              "    }\n",
              "\n",
              "    .colab-df-convert {\n",
              "      background-color: #E8F0FE;\n",
              "      border: none;\n",
              "      border-radius: 50%;\n",
              "      cursor: pointer;\n",
              "      display: none;\n",
              "      fill: #1967D2;\n",
              "      height: 32px;\n",
              "      padding: 0 0 0 0;\n",
              "      width: 32px;\n",
              "    }\n",
              "\n",
              "    .colab-df-convert:hover {\n",
              "      background-color: #E2EBFA;\n",
              "      box-shadow: 0px 1px 2px rgba(60, 64, 67, 0.3), 0px 1px 3px 1px rgba(60, 64, 67, 0.15);\n",
              "      fill: #174EA6;\n",
              "    }\n",
              "\n",
              "    [theme=dark] .colab-df-convert {\n",
              "      background-color: #3B4455;\n",
              "      fill: #D2E3FC;\n",
              "    }\n",
              "\n",
              "    [theme=dark] .colab-df-convert:hover {\n",
              "      background-color: #434B5C;\n",
              "      box-shadow: 0px 1px 3px 1px rgba(0, 0, 0, 0.15);\n",
              "      filter: drop-shadow(0px 1px 2px rgba(0, 0, 0, 0.3));\n",
              "      fill: #FFFFFF;\n",
              "    }\n",
              "  </style>\n",
              "\n",
              "      <script>\n",
              "        const buttonEl =\n",
              "          document.querySelector('#df-a09e6139-bb31-4138-81a8-cb025ffb8452 button.colab-df-convert');\n",
              "        buttonEl.style.display =\n",
              "          google.colab.kernel.accessAllowed ? 'block' : 'none';\n",
              "\n",
              "        async function convertToInteractive(key) {\n",
              "          const element = document.querySelector('#df-a09e6139-bb31-4138-81a8-cb025ffb8452');\n",
              "          const dataTable =\n",
              "            await google.colab.kernel.invokeFunction('convertToInteractive',\n",
              "                                                     [key], {});\n",
              "          if (!dataTable) return;\n",
              "\n",
              "          const docLinkHtml = 'Like what you see? Visit the ' +\n",
              "            '<a target=\"_blank\" href=https://colab.research.google.com/notebooks/data_table.ipynb>data table notebook</a>'\n",
              "            + ' to learn more about interactive tables.';\n",
              "          element.innerHTML = '';\n",
              "          dataTable['output_type'] = 'display_data';\n",
              "          await google.colab.output.renderOutput(dataTable, element);\n",
              "          const docLink = document.createElement('div');\n",
              "          docLink.innerHTML = docLinkHtml;\n",
              "          element.appendChild(docLink);\n",
              "        }\n",
              "      </script>\n",
              "    </div>\n",
              "  </div>\n",
              "  "
            ]
          },
          "metadata": {},
          "execution_count": 44
        }
      ]
    },
    {
      "cell_type": "markdown",
      "source": [
        "Se encuentra que Argelia es el vecino más cercano a Colombia"
      ],
      "metadata": {
        "id": "rd0M8nMu74rF"
      }
    },
    {
      "cell_type": "markdown",
      "source": [
        "# 2."
      ],
      "metadata": {
        "id": "msYilXtBwbKA"
      }
    },
    {
      "cell_type": "markdown",
      "source": [
        "Se prueba con la matriz $\\begin{bmatrix}\n",
        "10 & 3\\\\\n",
        "10 & 0\n",
        "\\end{bmatrix}$"
      ],
      "metadata": {
        "id": "7JmQFl_ODwnD"
      }
    },
    {
      "cell_type": "code",
      "source": [
        "matrix_dataX = np.array([[10, 3], [10, 0]])\n",
        "distance_X = pairwise_distances(matrix_dataX)\n",
        "distance_X"
      ],
      "metadata": {
        "colab": {
          "base_uri": "https://localhost:8080/"
        },
        "id": "M5pmK-POCh0v",
        "outputId": "c2d93aa4-b1a0-470f-8394-52585ef3409e"
      },
      "execution_count": null,
      "outputs": [
        {
          "output_type": "execute_result",
          "data": {
            "text/plain": [
              "array([[0., 3.],\n",
              "       [3., 0.]])"
            ]
          },
          "metadata": {},
          "execution_count": 51
        }
      ]
    },
    {
      "cell_type": "markdown",
      "source": [
        "Se encuentra que para obtener la matriz $\\begin{bmatrix}\n",
        "0 & 3\\\\\n",
        "3 & 0\n",
        "\\end{bmatrix}$ la matriz de distancia de la matriz de datos X es cualquier matriz de la forma $\\begin{bmatrix}\n",
        "x & 3\\\\\n",
        "x & 0\n",
        "\\end{bmatrix}$ "
      ],
      "metadata": {
        "id": "118gWXFSETN0"
      }
    },
    {
      "cell_type": "markdown",
      "source": [
        "# 3."
      ],
      "metadata": {
        "id": "d1Ge2ETDweIu"
      }
    },
    {
      "cell_type": "code",
      "source": [
        "clientes_d1 = pd.read_csv('Clientes_D1.csv')\n",
        "clientes_d1.tail()"
      ],
      "metadata": {
        "colab": {
          "base_uri": "https://localhost:8080/",
          "height": 206
        },
        "id": "CmwXFqn2FFnh",
        "outputId": "35addc69-799c-4aa0-f92d-dadfd8417c8e"
      },
      "execution_count": null,
      "outputs": [
        {
          "output_type": "execute_result",
          "data": {
            "text/plain": [
              "     IDCliente    Sexo  Edad  IngresoDiario (miles)  PuntajeGastos(1-100)\n",
              "185        186    Male    30                     99                    97\n",
              "186        187  Female    54                    101                    24\n",
              "187        188    Male    28                    101                    68\n",
              "188        189  Female    41                    103                    17\n",
              "189        190  Female    36                    103                    85"
            ],
            "text/html": [
              "\n",
              "  <div id=\"df-045cf558-810f-4ad1-9b7a-5c1527d9c958\">\n",
              "    <div class=\"colab-df-container\">\n",
              "      <div>\n",
              "<style scoped>\n",
              "    .dataframe tbody tr th:only-of-type {\n",
              "        vertical-align: middle;\n",
              "    }\n",
              "\n",
              "    .dataframe tbody tr th {\n",
              "        vertical-align: top;\n",
              "    }\n",
              "\n",
              "    .dataframe thead th {\n",
              "        text-align: right;\n",
              "    }\n",
              "</style>\n",
              "<table border=\"1\" class=\"dataframe\">\n",
              "  <thead>\n",
              "    <tr style=\"text-align: right;\">\n",
              "      <th></th>\n",
              "      <th>IDCliente</th>\n",
              "      <th>Sexo</th>\n",
              "      <th>Edad</th>\n",
              "      <th>IngresoDiario (miles)</th>\n",
              "      <th>PuntajeGastos(1-100)</th>\n",
              "    </tr>\n",
              "  </thead>\n",
              "  <tbody>\n",
              "    <tr>\n",
              "      <th>185</th>\n",
              "      <td>186</td>\n",
              "      <td>Male</td>\n",
              "      <td>30</td>\n",
              "      <td>99</td>\n",
              "      <td>97</td>\n",
              "    </tr>\n",
              "    <tr>\n",
              "      <th>186</th>\n",
              "      <td>187</td>\n",
              "      <td>Female</td>\n",
              "      <td>54</td>\n",
              "      <td>101</td>\n",
              "      <td>24</td>\n",
              "    </tr>\n",
              "    <tr>\n",
              "      <th>187</th>\n",
              "      <td>188</td>\n",
              "      <td>Male</td>\n",
              "      <td>28</td>\n",
              "      <td>101</td>\n",
              "      <td>68</td>\n",
              "    </tr>\n",
              "    <tr>\n",
              "      <th>188</th>\n",
              "      <td>189</td>\n",
              "      <td>Female</td>\n",
              "      <td>41</td>\n",
              "      <td>103</td>\n",
              "      <td>17</td>\n",
              "    </tr>\n",
              "    <tr>\n",
              "      <th>189</th>\n",
              "      <td>190</td>\n",
              "      <td>Female</td>\n",
              "      <td>36</td>\n",
              "      <td>103</td>\n",
              "      <td>85</td>\n",
              "    </tr>\n",
              "  </tbody>\n",
              "</table>\n",
              "</div>\n",
              "      <button class=\"colab-df-convert\" onclick=\"convertToInteractive('df-045cf558-810f-4ad1-9b7a-5c1527d9c958')\"\n",
              "              title=\"Convert this dataframe to an interactive table.\"\n",
              "              style=\"display:none;\">\n",
              "        \n",
              "  <svg xmlns=\"http://www.w3.org/2000/svg\" height=\"24px\"viewBox=\"0 0 24 24\"\n",
              "       width=\"24px\">\n",
              "    <path d=\"M0 0h24v24H0V0z\" fill=\"none\"/>\n",
              "    <path d=\"M18.56 5.44l.94 2.06.94-2.06 2.06-.94-2.06-.94-.94-2.06-.94 2.06-2.06.94zm-11 1L8.5 8.5l.94-2.06 2.06-.94-2.06-.94L8.5 2.5l-.94 2.06-2.06.94zm10 10l.94 2.06.94-2.06 2.06-.94-2.06-.94-.94-2.06-.94 2.06-2.06.94z\"/><path d=\"M17.41 7.96l-1.37-1.37c-.4-.4-.92-.59-1.43-.59-.52 0-1.04.2-1.43.59L10.3 9.45l-7.72 7.72c-.78.78-.78 2.05 0 2.83L4 21.41c.39.39.9.59 1.41.59.51 0 1.02-.2 1.41-.59l7.78-7.78 2.81-2.81c.8-.78.8-2.07 0-2.86zM5.41 20L4 18.59l7.72-7.72 1.47 1.35L5.41 20z\"/>\n",
              "  </svg>\n",
              "      </button>\n",
              "      \n",
              "  <style>\n",
              "    .colab-df-container {\n",
              "      display:flex;\n",
              "      flex-wrap:wrap;\n",
              "      gap: 12px;\n",
              "    }\n",
              "\n",
              "    .colab-df-convert {\n",
              "      background-color: #E8F0FE;\n",
              "      border: none;\n",
              "      border-radius: 50%;\n",
              "      cursor: pointer;\n",
              "      display: none;\n",
              "      fill: #1967D2;\n",
              "      height: 32px;\n",
              "      padding: 0 0 0 0;\n",
              "      width: 32px;\n",
              "    }\n",
              "\n",
              "    .colab-df-convert:hover {\n",
              "      background-color: #E2EBFA;\n",
              "      box-shadow: 0px 1px 2px rgba(60, 64, 67, 0.3), 0px 1px 3px 1px rgba(60, 64, 67, 0.15);\n",
              "      fill: #174EA6;\n",
              "    }\n",
              "\n",
              "    [theme=dark] .colab-df-convert {\n",
              "      background-color: #3B4455;\n",
              "      fill: #D2E3FC;\n",
              "    }\n",
              "\n",
              "    [theme=dark] .colab-df-convert:hover {\n",
              "      background-color: #434B5C;\n",
              "      box-shadow: 0px 1px 3px 1px rgba(0, 0, 0, 0.15);\n",
              "      filter: drop-shadow(0px 1px 2px rgba(0, 0, 0, 0.3));\n",
              "      fill: #FFFFFF;\n",
              "    }\n",
              "  </style>\n",
              "\n",
              "      <script>\n",
              "        const buttonEl =\n",
              "          document.querySelector('#df-045cf558-810f-4ad1-9b7a-5c1527d9c958 button.colab-df-convert');\n",
              "        buttonEl.style.display =\n",
              "          google.colab.kernel.accessAllowed ? 'block' : 'none';\n",
              "\n",
              "        async function convertToInteractive(key) {\n",
              "          const element = document.querySelector('#df-045cf558-810f-4ad1-9b7a-5c1527d9c958');\n",
              "          const dataTable =\n",
              "            await google.colab.kernel.invokeFunction('convertToInteractive',\n",
              "                                                     [key], {});\n",
              "          if (!dataTable) return;\n",
              "\n",
              "          const docLinkHtml = 'Like what you see? Visit the ' +\n",
              "            '<a target=\"_blank\" href=https://colab.research.google.com/notebooks/data_table.ipynb>data table notebook</a>'\n",
              "            + ' to learn more about interactive tables.';\n",
              "          element.innerHTML = '';\n",
              "          dataTable['output_type'] = 'display_data';\n",
              "          await google.colab.output.renderOutput(dataTable, element);\n",
              "          const docLink = document.createElement('div');\n",
              "          docLink.innerHTML = docLinkHtml;\n",
              "          element.appendChild(docLink);\n",
              "        }\n",
              "      </script>\n",
              "    </div>\n",
              "  </div>\n",
              "  "
            ]
          },
          "metadata": {},
          "execution_count": 52
        }
      ]
    },
    {
      "cell_type": "code",
      "source": [
        "clientes_d1.describe()"
      ],
      "metadata": {
        "colab": {
          "base_uri": "https://localhost:8080/",
          "height": 300
        },
        "id": "lL14FfbWFYQk",
        "outputId": "a99cef5f-f1ae-469f-e7a7-766c71773595"
      },
      "execution_count": null,
      "outputs": [
        {
          "output_type": "execute_result",
          "data": {
            "text/plain": [
              "        IDCliente        Edad  IngresoDiario (miles)  PuntajeGastos(1-100)\n",
              "count  190.000000  190.000000             190.000000            190.000000\n",
              "mean    95.500000   39.157895              57.994737             50.147368\n",
              "std     54.992424   14.196144              23.124347             25.618061\n",
              "min      1.000000   18.000000              15.000000              1.000000\n",
              "25%     48.250000   28.000000              40.000000             35.000000\n",
              "50%     95.500000   36.000000              60.000000             50.000000\n",
              "75%    142.750000   49.000000              76.000000             72.000000\n",
              "max    190.000000   70.000000             120.000000             99.000000"
            ],
            "text/html": [
              "\n",
              "  <div id=\"df-fd411ce8-78cb-4a1d-b731-ebc3326808ea\">\n",
              "    <div class=\"colab-df-container\">\n",
              "      <div>\n",
              "<style scoped>\n",
              "    .dataframe tbody tr th:only-of-type {\n",
              "        vertical-align: middle;\n",
              "    }\n",
              "\n",
              "    .dataframe tbody tr th {\n",
              "        vertical-align: top;\n",
              "    }\n",
              "\n",
              "    .dataframe thead th {\n",
              "        text-align: right;\n",
              "    }\n",
              "</style>\n",
              "<table border=\"1\" class=\"dataframe\">\n",
              "  <thead>\n",
              "    <tr style=\"text-align: right;\">\n",
              "      <th></th>\n",
              "      <th>IDCliente</th>\n",
              "      <th>Edad</th>\n",
              "      <th>IngresoDiario (miles)</th>\n",
              "      <th>PuntajeGastos(1-100)</th>\n",
              "    </tr>\n",
              "  </thead>\n",
              "  <tbody>\n",
              "    <tr>\n",
              "      <th>count</th>\n",
              "      <td>190.000000</td>\n",
              "      <td>190.000000</td>\n",
              "      <td>190.000000</td>\n",
              "      <td>190.000000</td>\n",
              "    </tr>\n",
              "    <tr>\n",
              "      <th>mean</th>\n",
              "      <td>95.500000</td>\n",
              "      <td>39.157895</td>\n",
              "      <td>57.994737</td>\n",
              "      <td>50.147368</td>\n",
              "    </tr>\n",
              "    <tr>\n",
              "      <th>std</th>\n",
              "      <td>54.992424</td>\n",
              "      <td>14.196144</td>\n",
              "      <td>23.124347</td>\n",
              "      <td>25.618061</td>\n",
              "    </tr>\n",
              "    <tr>\n",
              "      <th>min</th>\n",
              "      <td>1.000000</td>\n",
              "      <td>18.000000</td>\n",
              "      <td>15.000000</td>\n",
              "      <td>1.000000</td>\n",
              "    </tr>\n",
              "    <tr>\n",
              "      <th>25%</th>\n",
              "      <td>48.250000</td>\n",
              "      <td>28.000000</td>\n",
              "      <td>40.000000</td>\n",
              "      <td>35.000000</td>\n",
              "    </tr>\n",
              "    <tr>\n",
              "      <th>50%</th>\n",
              "      <td>95.500000</td>\n",
              "      <td>36.000000</td>\n",
              "      <td>60.000000</td>\n",
              "      <td>50.000000</td>\n",
              "    </tr>\n",
              "    <tr>\n",
              "      <th>75%</th>\n",
              "      <td>142.750000</td>\n",
              "      <td>49.000000</td>\n",
              "      <td>76.000000</td>\n",
              "      <td>72.000000</td>\n",
              "    </tr>\n",
              "    <tr>\n",
              "      <th>max</th>\n",
              "      <td>190.000000</td>\n",
              "      <td>70.000000</td>\n",
              "      <td>120.000000</td>\n",
              "      <td>99.000000</td>\n",
              "    </tr>\n",
              "  </tbody>\n",
              "</table>\n",
              "</div>\n",
              "      <button class=\"colab-df-convert\" onclick=\"convertToInteractive('df-fd411ce8-78cb-4a1d-b731-ebc3326808ea')\"\n",
              "              title=\"Convert this dataframe to an interactive table.\"\n",
              "              style=\"display:none;\">\n",
              "        \n",
              "  <svg xmlns=\"http://www.w3.org/2000/svg\" height=\"24px\"viewBox=\"0 0 24 24\"\n",
              "       width=\"24px\">\n",
              "    <path d=\"M0 0h24v24H0V0z\" fill=\"none\"/>\n",
              "    <path d=\"M18.56 5.44l.94 2.06.94-2.06 2.06-.94-2.06-.94-.94-2.06-.94 2.06-2.06.94zm-11 1L8.5 8.5l.94-2.06 2.06-.94-2.06-.94L8.5 2.5l-.94 2.06-2.06.94zm10 10l.94 2.06.94-2.06 2.06-.94-2.06-.94-.94-2.06-.94 2.06-2.06.94z\"/><path d=\"M17.41 7.96l-1.37-1.37c-.4-.4-.92-.59-1.43-.59-.52 0-1.04.2-1.43.59L10.3 9.45l-7.72 7.72c-.78.78-.78 2.05 0 2.83L4 21.41c.39.39.9.59 1.41.59.51 0 1.02-.2 1.41-.59l7.78-7.78 2.81-2.81c.8-.78.8-2.07 0-2.86zM5.41 20L4 18.59l7.72-7.72 1.47 1.35L5.41 20z\"/>\n",
              "  </svg>\n",
              "      </button>\n",
              "      \n",
              "  <style>\n",
              "    .colab-df-container {\n",
              "      display:flex;\n",
              "      flex-wrap:wrap;\n",
              "      gap: 12px;\n",
              "    }\n",
              "\n",
              "    .colab-df-convert {\n",
              "      background-color: #E8F0FE;\n",
              "      border: none;\n",
              "      border-radius: 50%;\n",
              "      cursor: pointer;\n",
              "      display: none;\n",
              "      fill: #1967D2;\n",
              "      height: 32px;\n",
              "      padding: 0 0 0 0;\n",
              "      width: 32px;\n",
              "    }\n",
              "\n",
              "    .colab-df-convert:hover {\n",
              "      background-color: #E2EBFA;\n",
              "      box-shadow: 0px 1px 2px rgba(60, 64, 67, 0.3), 0px 1px 3px 1px rgba(60, 64, 67, 0.15);\n",
              "      fill: #174EA6;\n",
              "    }\n",
              "\n",
              "    [theme=dark] .colab-df-convert {\n",
              "      background-color: #3B4455;\n",
              "      fill: #D2E3FC;\n",
              "    }\n",
              "\n",
              "    [theme=dark] .colab-df-convert:hover {\n",
              "      background-color: #434B5C;\n",
              "      box-shadow: 0px 1px 3px 1px rgba(0, 0, 0, 0.15);\n",
              "      filter: drop-shadow(0px 1px 2px rgba(0, 0, 0, 0.3));\n",
              "      fill: #FFFFFF;\n",
              "    }\n",
              "  </style>\n",
              "\n",
              "      <script>\n",
              "        const buttonEl =\n",
              "          document.querySelector('#df-fd411ce8-78cb-4a1d-b731-ebc3326808ea button.colab-df-convert');\n",
              "        buttonEl.style.display =\n",
              "          google.colab.kernel.accessAllowed ? 'block' : 'none';\n",
              "\n",
              "        async function convertToInteractive(key) {\n",
              "          const element = document.querySelector('#df-fd411ce8-78cb-4a1d-b731-ebc3326808ea');\n",
              "          const dataTable =\n",
              "            await google.colab.kernel.invokeFunction('convertToInteractive',\n",
              "                                                     [key], {});\n",
              "          if (!dataTable) return;\n",
              "\n",
              "          const docLinkHtml = 'Like what you see? Visit the ' +\n",
              "            '<a target=\"_blank\" href=https://colab.research.google.com/notebooks/data_table.ipynb>data table notebook</a>'\n",
              "            + ' to learn more about interactive tables.';\n",
              "          element.innerHTML = '';\n",
              "          dataTable['output_type'] = 'display_data';\n",
              "          await google.colab.output.renderOutput(dataTable, element);\n",
              "          const docLink = document.createElement('div');\n",
              "          docLink.innerHTML = docLinkHtml;\n",
              "          element.appendChild(docLink);\n",
              "        }\n",
              "      </script>\n",
              "    </div>\n",
              "  </div>\n",
              "  "
            ]
          },
          "metadata": {},
          "execution_count": 53
        }
      ]
    },
    {
      "cell_type": "markdown",
      "source": [
        "Se elimina la columna IDCliente que no representa mucha información y tambien se reemplazan los valores de mujer y hombre por 0 y 1"
      ],
      "metadata": {
        "id": "OR52wVcYF1Bp"
      }
    },
    {
      "cell_type": "code",
      "source": [
        "clientes_d1.drop(columns='IDCliente', inplace=True)"
      ],
      "metadata": {
        "id": "dkxnqFoeFjM0"
      },
      "execution_count": null,
      "outputs": []
    },
    {
      "cell_type": "code",
      "source": [
        "clientes_d1 = clientes_d1.replace({'Sexo': {'Female': 0, 'Male': 1}})"
      ],
      "metadata": {
        "id": "tX5yeRfkGbQN"
      },
      "execution_count": null,
      "outputs": []
    },
    {
      "cell_type": "markdown",
      "source": [
        "## 3.1"
      ],
      "metadata": {
        "id": "TUKllloRwfyW"
      }
    },
    {
      "cell_type": "markdown",
      "source": [
        "Se crea el kmeans para los clientes con k=2 y se hace la predicción para cada uno de los registros dentro de la variable tag"
      ],
      "metadata": {
        "id": "WUuFfbKlHdJ5"
      }
    },
    {
      "cell_type": "code",
      "source": [
        "kmeans_clientes = KMeans(n_clusters=2, random_state=0).fit(clientes_d1)\n",
        "tag = kmeans_clientes.predict(clientes_d1)"
      ],
      "metadata": {
        "id": "OePBJj_XGura"
      },
      "execution_count": null,
      "outputs": []
    },
    {
      "cell_type": "markdown",
      "source": [
        "Se agrega la variable tag al dataframe"
      ],
      "metadata": {
        "id": "SyTqAjAaHktU"
      }
    },
    {
      "cell_type": "code",
      "source": [
        "clientes_d1['Tag'] = tag"
      ],
      "metadata": {
        "id": "MFTQ3e1ZHRqv"
      },
      "execution_count": null,
      "outputs": []
    },
    {
      "cell_type": "code",
      "source": [
        "clientes_d1.iloc[[0]]"
      ],
      "metadata": {
        "colab": {
          "base_uri": "https://localhost:8080/",
          "height": 81
        },
        "id": "hfu-vy2nH9XB",
        "outputId": "ff2e2ef9-e2ac-4880-957d-ae74038931ec"
      },
      "execution_count": null,
      "outputs": [
        {
          "output_type": "execute_result",
          "data": {
            "text/plain": [
              "   Sexo  Edad  IngresoDiario (miles)  PuntajeGastos(1-100)  Tag\n",
              "0     0    47                    120                    16    0"
            ],
            "text/html": [
              "\n",
              "  <div id=\"df-9b9a430a-a4fd-475f-9bb9-75677886a614\">\n",
              "    <div class=\"colab-df-container\">\n",
              "      <div>\n",
              "<style scoped>\n",
              "    .dataframe tbody tr th:only-of-type {\n",
              "        vertical-align: middle;\n",
              "    }\n",
              "\n",
              "    .dataframe tbody tr th {\n",
              "        vertical-align: top;\n",
              "    }\n",
              "\n",
              "    .dataframe thead th {\n",
              "        text-align: right;\n",
              "    }\n",
              "</style>\n",
              "<table border=\"1\" class=\"dataframe\">\n",
              "  <thead>\n",
              "    <tr style=\"text-align: right;\">\n",
              "      <th></th>\n",
              "      <th>Sexo</th>\n",
              "      <th>Edad</th>\n",
              "      <th>IngresoDiario (miles)</th>\n",
              "      <th>PuntajeGastos(1-100)</th>\n",
              "      <th>Tag</th>\n",
              "    </tr>\n",
              "  </thead>\n",
              "  <tbody>\n",
              "    <tr>\n",
              "      <th>0</th>\n",
              "      <td>0</td>\n",
              "      <td>47</td>\n",
              "      <td>120</td>\n",
              "      <td>16</td>\n",
              "      <td>0</td>\n",
              "    </tr>\n",
              "  </tbody>\n",
              "</table>\n",
              "</div>\n",
              "      <button class=\"colab-df-convert\" onclick=\"convertToInteractive('df-9b9a430a-a4fd-475f-9bb9-75677886a614')\"\n",
              "              title=\"Convert this dataframe to an interactive table.\"\n",
              "              style=\"display:none;\">\n",
              "        \n",
              "  <svg xmlns=\"http://www.w3.org/2000/svg\" height=\"24px\"viewBox=\"0 0 24 24\"\n",
              "       width=\"24px\">\n",
              "    <path d=\"M0 0h24v24H0V0z\" fill=\"none\"/>\n",
              "    <path d=\"M18.56 5.44l.94 2.06.94-2.06 2.06-.94-2.06-.94-.94-2.06-.94 2.06-2.06.94zm-11 1L8.5 8.5l.94-2.06 2.06-.94-2.06-.94L8.5 2.5l-.94 2.06-2.06.94zm10 10l.94 2.06.94-2.06 2.06-.94-2.06-.94-.94-2.06-.94 2.06-2.06.94z\"/><path d=\"M17.41 7.96l-1.37-1.37c-.4-.4-.92-.59-1.43-.59-.52 0-1.04.2-1.43.59L10.3 9.45l-7.72 7.72c-.78.78-.78 2.05 0 2.83L4 21.41c.39.39.9.59 1.41.59.51 0 1.02-.2 1.41-.59l7.78-7.78 2.81-2.81c.8-.78.8-2.07 0-2.86zM5.41 20L4 18.59l7.72-7.72 1.47 1.35L5.41 20z\"/>\n",
              "  </svg>\n",
              "      </button>\n",
              "      \n",
              "  <style>\n",
              "    .colab-df-container {\n",
              "      display:flex;\n",
              "      flex-wrap:wrap;\n",
              "      gap: 12px;\n",
              "    }\n",
              "\n",
              "    .colab-df-convert {\n",
              "      background-color: #E8F0FE;\n",
              "      border: none;\n",
              "      border-radius: 50%;\n",
              "      cursor: pointer;\n",
              "      display: none;\n",
              "      fill: #1967D2;\n",
              "      height: 32px;\n",
              "      padding: 0 0 0 0;\n",
              "      width: 32px;\n",
              "    }\n",
              "\n",
              "    .colab-df-convert:hover {\n",
              "      background-color: #E2EBFA;\n",
              "      box-shadow: 0px 1px 2px rgba(60, 64, 67, 0.3), 0px 1px 3px 1px rgba(60, 64, 67, 0.15);\n",
              "      fill: #174EA6;\n",
              "    }\n",
              "\n",
              "    [theme=dark] .colab-df-convert {\n",
              "      background-color: #3B4455;\n",
              "      fill: #D2E3FC;\n",
              "    }\n",
              "\n",
              "    [theme=dark] .colab-df-convert:hover {\n",
              "      background-color: #434B5C;\n",
              "      box-shadow: 0px 1px 3px 1px rgba(0, 0, 0, 0.15);\n",
              "      filter: drop-shadow(0px 1px 2px rgba(0, 0, 0, 0.3));\n",
              "      fill: #FFFFFF;\n",
              "    }\n",
              "  </style>\n",
              "\n",
              "      <script>\n",
              "        const buttonEl =\n",
              "          document.querySelector('#df-9b9a430a-a4fd-475f-9bb9-75677886a614 button.colab-df-convert');\n",
              "        buttonEl.style.display =\n",
              "          google.colab.kernel.accessAllowed ? 'block' : 'none';\n",
              "\n",
              "        async function convertToInteractive(key) {\n",
              "          const element = document.querySelector('#df-9b9a430a-a4fd-475f-9bb9-75677886a614');\n",
              "          const dataTable =\n",
              "            await google.colab.kernel.invokeFunction('convertToInteractive',\n",
              "                                                     [key], {});\n",
              "          if (!dataTable) return;\n",
              "\n",
              "          const docLinkHtml = 'Like what you see? Visit the ' +\n",
              "            '<a target=\"_blank\" href=https://colab.research.google.com/notebooks/data_table.ipynb>data table notebook</a>'\n",
              "            + ' to learn more about interactive tables.';\n",
              "          element.innerHTML = '';\n",
              "          dataTable['output_type'] = 'display_data';\n",
              "          await google.colab.output.renderOutput(dataTable, element);\n",
              "          const docLink = document.createElement('div');\n",
              "          docLink.innerHTML = docLinkHtml;\n",
              "          element.appendChild(docLink);\n",
              "        }\n",
              "      </script>\n",
              "    </div>\n",
              "  </div>\n",
              "  "
            ]
          },
          "metadata": {},
          "execution_count": 63
        }
      ]
    },
    {
      "cell_type": "markdown",
      "source": [
        "La prediccion para la primera persona es, como se indica en el tag, para el cluster 0"
      ],
      "metadata": {
        "id": "BbsMLH4UIDRG"
      }
    },
    {
      "cell_type": "markdown",
      "source": [
        "## 3.2"
      ],
      "metadata": {
        "id": "9G0WzhAfwhA3"
      }
    },
    {
      "cell_type": "markdown",
      "source": [
        "Se crean 15 clusters y se realiza el modelo de kmeans para los datos"
      ],
      "metadata": {
        "id": "EPNbxloeKHzw"
      }
    },
    {
      "cell_type": "code",
      "source": [
        "ct = range(1, 15)\n",
        "kmeans_clientesd1 = [KMeans(n_clusters=i) for i in ct]\n",
        "score = [kmeans_clientesd1[i].fit(clientes_d1).score(clientes_d1) for i in range(len(kmeans_clientesd1))]"
      ],
      "metadata": {
        "id": "qx3Lt-AxIdjr"
      },
      "execution_count": null,
      "outputs": []
    },
    {
      "cell_type": "code",
      "source": [
        "plt.xlabel('Clusters')\n",
        "plt.ylabel('Score')\n",
        "plt.plot(ct, score, 'r')\n",
        "plt.show()"
      ],
      "metadata": {
        "colab": {
          "base_uri": "https://localhost:8080/",
          "height": 279
        },
        "id": "pbBYpErmJsuW",
        "outputId": "8951a4a5-aad2-4ea2-e802-63a2d5275f0a"
      },
      "execution_count": null,
      "outputs": [
        {
          "output_type": "display_data",
          "data": {
            "text/plain": [
              "<Figure size 432x288 with 1 Axes>"
            ],
            "image/png": "[encoded data removed]"
          },
          "metadata": {
            "needs_background": "light"
          }
        }
      ]
    },
    {
      "cell_type": "markdown",
      "source": [
        "Se puede ver que a partir del cluster k=6 se cambia la gráfica por lo que el k óptimo es igual a 6"
      ],
      "metadata": {
        "id": "Z-drWpBEKdOT"
      }
    },
    {
      "cell_type": "markdown",
      "source": [
        "## 3.3"
      ],
      "metadata": {
        "id": "7OL-zdS8wiCX"
      }
    },
    {
      "cell_type": "markdown",
      "source": [
        "Se crea el kmeans para los clientes con el k optimo k=6 y se hace la predicción para cada uno de los registros dentro de la variable tag_opt"
      ],
      "metadata": {
        "id": "_vmZfV6OLG-e"
      }
    },
    {
      "cell_type": "code",
      "source": [
        "kmeans_clientes_opt = KMeans(n_clusters=6, random_state=0).fit(clientes_d1)\n",
        "tag_opt = kmeans_clientes_opt.predict(clientes_d1)"
      ],
      "metadata": {
        "id": "4pAD_8zbKv3W"
      },
      "execution_count": null,
      "outputs": []
    },
    {
      "cell_type": "markdown",
      "source": [
        "Se agrega al dataframe la columna de la prediccion con el k optimo"
      ],
      "metadata": {
        "id": "B35VmfLxLV9C"
      }
    },
    {
      "cell_type": "code",
      "source": [
        "clientes_d1['tag_opt'] = tag_opt"
      ],
      "metadata": {
        "id": "iEuFiYH2LOCd"
      },
      "execution_count": null,
      "outputs": []
    },
    {
      "cell_type": "code",
      "source": [
        "clientes_d1.iloc[[0]]"
      ],
      "metadata": {
        "colab": {
          "base_uri": "https://localhost:8080/",
          "height": 81
        },
        "id": "J4X8gWOXLZeO",
        "outputId": "310d0f35-9f80-496e-a54f-a59716c02f49"
      },
      "execution_count": null,
      "outputs": [
        {
          "output_type": "execute_result",
          "data": {
            "text/plain": [
              "   Sexo  Edad  IngresoDiario (miles)  PuntajeGastos(1-100)  Tag  tag_opt\n",
              "0     0    47                    120                    16    0        0"
            ],
            "text/html": [
              "\n",
              "  <div id=\"df-631b22bd-0939-42ae-976e-00d8bb83ce09\">\n",
              "    <div class=\"colab-df-container\">\n",
              "      <div>\n",
              "<style scoped>\n",
              "    .dataframe tbody tr th:only-of-type {\n",
              "        vertical-align: middle;\n",
              "    }\n",
              "\n",
              "    .dataframe tbody tr th {\n",
              "        vertical-align: top;\n",
              "    }\n",
              "\n",
              "    .dataframe thead th {\n",
              "        text-align: right;\n",
              "    }\n",
              "</style>\n",
              "<table border=\"1\" class=\"dataframe\">\n",
              "  <thead>\n",
              "    <tr style=\"text-align: right;\">\n",
              "      <th></th>\n",
              "      <th>Sexo</th>\n",
              "      <th>Edad</th>\n",
              "      <th>IngresoDiario (miles)</th>\n",
              "      <th>PuntajeGastos(1-100)</th>\n",
              "      <th>Tag</th>\n",
              "      <th>tag_opt</th>\n",
              "    </tr>\n",
              "  </thead>\n",
              "  <tbody>\n",
              "    <tr>\n",
              "      <th>0</th>\n",
              "      <td>0</td>\n",
              "      <td>47</td>\n",
              "      <td>120</td>\n",
              "      <td>16</td>\n",
              "      <td>0</td>\n",
              "      <td>0</td>\n",
              "    </tr>\n",
              "  </tbody>\n",
              "</table>\n",
              "</div>\n",
              "      <button class=\"colab-df-convert\" onclick=\"convertToInteractive('df-631b22bd-0939-42ae-976e-00d8bb83ce09')\"\n",
              "              title=\"Convert this dataframe to an interactive table.\"\n",
              "              style=\"display:none;\">\n",
              "        \n",
              "  <svg xmlns=\"http://www.w3.org/2000/svg\" height=\"24px\"viewBox=\"0 0 24 24\"\n",
              "       width=\"24px\">\n",
              "    <path d=\"M0 0h24v24H0V0z\" fill=\"none\"/>\n",
              "    <path d=\"M18.56 5.44l.94 2.06.94-2.06 2.06-.94-2.06-.94-.94-2.06-.94 2.06-2.06.94zm-11 1L8.5 8.5l.94-2.06 2.06-.94-2.06-.94L8.5 2.5l-.94 2.06-2.06.94zm10 10l.94 2.06.94-2.06 2.06-.94-2.06-.94-.94-2.06-.94 2.06-2.06.94z\"/><path d=\"M17.41 7.96l-1.37-1.37c-.4-.4-.92-.59-1.43-.59-.52 0-1.04.2-1.43.59L10.3 9.45l-7.72 7.72c-.78.78-.78 2.05 0 2.83L4 21.41c.39.39.9.59 1.41.59.51 0 1.02-.2 1.41-.59l7.78-7.78 2.81-2.81c.8-.78.8-2.07 0-2.86zM5.41 20L4 18.59l7.72-7.72 1.47 1.35L5.41 20z\"/>\n",
              "  </svg>\n",
              "      </button>\n",
              "      \n",
              "  <style>\n",
              "    .colab-df-container {\n",
              "      display:flex;\n",
              "      flex-wrap:wrap;\n",
              "      gap: 12px;\n",
              "    }\n",
              "\n",
              "    .colab-df-convert {\n",
              "      background-color: #E8F0FE;\n",
              "      border: none;\n",
              "      border-radius: 50%;\n",
              "      cursor: pointer;\n",
              "      display: none;\n",
              "      fill: #1967D2;\n",
              "      height: 32px;\n",
              "      padding: 0 0 0 0;\n",
              "      width: 32px;\n",
              "    }\n",
              "\n",
              "    .colab-df-convert:hover {\n",
              "      background-color: #E2EBFA;\n",
              "      box-shadow: 0px 1px 2px rgba(60, 64, 67, 0.3), 0px 1px 3px 1px rgba(60, 64, 67, 0.15);\n",
              "      fill: #174EA6;\n",
              "    }\n",
              "\n",
              "    [theme=dark] .colab-df-convert {\n",
              "      background-color: #3B4455;\n",
              "      fill: #D2E3FC;\n",
              "    }\n",
              "\n",
              "    [theme=dark] .colab-df-convert:hover {\n",
              "      background-color: #434B5C;\n",
              "      box-shadow: 0px 1px 3px 1px rgba(0, 0, 0, 0.15);\n",
              "      filter: drop-shadow(0px 1px 2px rgba(0, 0, 0, 0.3));\n",
              "      fill: #FFFFFF;\n",
              "    }\n",
              "  </style>\n",
              "\n",
              "      <script>\n",
              "        const buttonEl =\n",
              "          document.querySelector('#df-631b22bd-0939-42ae-976e-00d8bb83ce09 button.colab-df-convert');\n",
              "        buttonEl.style.display =\n",
              "          google.colab.kernel.accessAllowed ? 'block' : 'none';\n",
              "\n",
              "        async function convertToInteractive(key) {\n",
              "          const element = document.querySelector('#df-631b22bd-0939-42ae-976e-00d8bb83ce09');\n",
              "          const dataTable =\n",
              "            await google.colab.kernel.invokeFunction('convertToInteractive',\n",
              "                                                     [key], {});\n",
              "          if (!dataTable) return;\n",
              "\n",
              "          const docLinkHtml = 'Like what you see? Visit the ' +\n",
              "            '<a target=\"_blank\" href=https://colab.research.google.com/notebooks/data_table.ipynb>data table notebook</a>'\n",
              "            + ' to learn more about interactive tables.';\n",
              "          element.innerHTML = '';\n",
              "          dataTable['output_type'] = 'display_data';\n",
              "          await google.colab.output.renderOutput(dataTable, element);\n",
              "          const docLink = document.createElement('div');\n",
              "          docLink.innerHTML = docLinkHtml;\n",
              "          element.appendChild(docLink);\n",
              "        }\n",
              "      </script>\n",
              "    </div>\n",
              "  </div>\n",
              "  "
            ]
          },
          "metadata": {},
          "execution_count": 76
        }
      ]
    },
    {
      "cell_type": "markdown",
      "source": [
        "Con el k optimo la prediccion para el primer registro tambien es para el cluster 0"
      ],
      "metadata": {
        "id": "qS7lduoaLeEK"
      }
    },
    {
      "cell_type": "markdown",
      "source": [
        "# 4."
      ],
      "metadata": {
        "id": "XnwfCNERwjT1"
      }
    },
    {
      "cell_type": "markdown",
      "source": [
        "$f(x)=arg min E((Y-c)^2)|X=x)$"
      ],
      "metadata": {
        "id": "Gtbfg_5X-D7Y"
      }
    },
    {
      "cell_type": "markdown",
      "source": [
        "$(Y-c)^2=((Y-E(Y|X)) + (E(Y|X)-c))^2=(y-E(Y|X))^2+(E(Y|X)-c)^2+2(Y-E(Y|X))(E(Y|X)-c)$"
      ],
      "metadata": {
        "id": "_-2HYRG3-P6r"
      }
    },
    {
      "cell_type": "markdown",
      "source": [
        "El primer término no depende de c. Significa también que cada vez que se usa MCO se esta estimando una esperanza condicional"
      ],
      "metadata": {
        "id": "M1HhNFTJ_1V0"
      }
    },
    {
      "cell_type": "markdown",
      "source": [
        "Para cualquier variable aleatoria y, se tiene la proyección sobre el espacio generado por las $x, r(x) = x \\beta$ donde:"
      ],
      "metadata": {
        "id": "T3NFubiDAXd2"
      }
    },
    {
      "cell_type": "markdown",
      "source": [
        "$\\beta = argmin E((y-xb)^2)$"
      ],
      "metadata": {
        "id": "dwtU1sy0AvLx"
      }
    },
    {
      "cell_type": "markdown",
      "source": [
        "Si la esperanza condicional es lineal entonces $E(Y|X)=x\\beta$. "
      ],
      "metadata": {
        "id": "RLn2niwUA4A0"
      }
    }
  ]
}